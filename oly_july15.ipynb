{
 "cells": [
  {
   "cell_type": "markdown",
   "id": "faa6d77e",
   "metadata": {
    "id": "7BxeKChV3AK6",
    "papermill": {
     "duration": 0.076173,
     "end_time": "2022-03-14T15:18:25.601454",
     "exception": false,
     "start_time": "2022-03-14T15:18:25.525281",
     "status": "completed"
    },
    "tags": []
   },
   "source": [
    "<div id='content'></div>\n",
    "\n",
    "## Index of Content\n",
    "\n",
    "* [**1.0 Importing the Laibraries**](#1.0)\n",
    "* [**2.0 Data Importing**](#Chapter2)\n",
    "* [**3.0 Initial Exploration of the dataset**](#Chapter3)\n",
    "* [**4.0 Merge Data of the dataset**](#Chapter4)\n",
    "* [**5.0 Data Cleaning**](#Chapter5)\n",
    "* [**6.0 Analysing Some columns**](#Chapter6)\n",
    " * [6.1 Number of althetes in Olymics](#6.1)\n",
    " * [6.2 Number of males and females](#6.2)\n",
    " * [6.3 Medal and Number of Medals in Olymics](#6.3)\n",
    " * [6.4 The cities and their number participating in the Olympics ](#6.4)\n",
    " * [6.5 Seasons in the Olympics](#6.5)\n",
    " * [6.6 Athletes Age Distribution in Olympics](#6.6)\n",
    " * [6.7 Athletes Height Distribution in Olympics](#6.7)\n",
    " * [6.8 Athletes Weight Distribution in Olympics](#6.8)\n",
    " * [6.9 Sports in Olympics](#6.9)\n",
    " * [6.10 NOC that participated in Olympics](#6.10)\n",
    " * [6.11 Regions that participated in Olympics](#6.11)\n",
    " * [6.12 Years for held Olympics](#6.12)\n",
    " * [6.13 Data describe](#6.13)\n",
    "* [**7.0 Deeper Analysis**](#7.0)\n",
    " * [7.1 Number of athlete for each year](#7.1)\n",
    " * [7.2 Male VS Female for each year](#7.2)\n",
    " * [7.3 Number of each medal for each year](#7.3)\n",
    " * [7.4  Gender wise medal distribution in Summer Olympics](#7.4)\n",
    " * [7.5 Gender wise medal distribution in Winter Olympics\n",
    "](#7.5)\n",
    " * [7.6 The names of the most players and how often they participated](#7.6)\n",
    " * [7.7 plots number of winners with the gold medal in each city](#7.7)\n",
    " * [7.8 plots number of winners with the Gold medal in each Year](#7.8)\n",
    " * [7.9 Sport Held in Summer Olympic](#7.9)\n",
    " * [7.10 Count of Participant in each summer sport](#7.10)\n",
    " * [7.11 Male And Female Participant in Each Winter Sport](#7.11)\n",
    " * [7.12 Top Countries in Olympic Medals](#7.12)\n",
    " * [7.13 China's Team that win Gold medal](#7.13)\n",
    " * [7.14 The Relationship Between Height and Weight by Gender](#7.14)\n",
    " * [7.15 Total number of Female athletes in each summer olympics](#7.15)\n",
    " * [7.16 Total number of Male athletes in each summer olympics](#7.16)\n",
    " * [7.17 number of athletes changed over time for Summer and Winter](#7.17)\n",
    "\n",
    " \n"
   ]
  },
  {
   "cell_type": "markdown",
   "id": "3e1dac35",
   "metadata": {
    "id": "_CPBmQoVoYwa",
    "papermill": {
     "duration": 0.075392,
     "end_time": "2022-03-14T15:18:25.752539",
     "exception": false,
     "start_time": "2022-03-14T15:18:25.677147",
     "status": "completed"
    },
    "tags": []
   },
   "source": [
    "<a id='1.0'></a>\n",
    "\n",
    "## 1.0 Importing the Libraries"
   ]
  },
  {
   "cell_type": "code",
   "execution_count": 1,
   "id": "a389085b",
   "metadata": {
    "execution": {
     "iopub.execute_input": "2022-03-14T15:18:25.915476Z",
     "iopub.status.busy": "2022-03-14T15:18:25.914829Z",
     "iopub.status.idle": "2022-03-14T15:18:26.972258Z",
     "shell.execute_reply": "2022-03-14T15:18:26.971399Z",
     "shell.execute_reply.started": "2022-03-14T15:17:31.765314Z"
    },
    "id": "tCkMMd8tj_Cq",
    "papermill": {
     "duration": 1.144279,
     "end_time": "2022-03-14T15:18:26.972428",
     "exception": false,
     "start_time": "2022-03-14T15:18:25.828149",
     "status": "completed"
    },
    "tags": []
   },
   "outputs": [],
   "source": [
    "import pandas as pd\n",
    "import numpy as np\n",
    "import seaborn as sns\n",
    "import matplotlib.pyplot as plt\n",
    "import csv"
   ]
  },
  {
   "cell_type": "markdown",
   "id": "be90f163",
   "metadata": {
    "id": "WdTz89m4j_Cw",
    "papermill": {
     "duration": 0.07727,
     "end_time": "2022-03-14T15:18:27.127590",
     "exception": false,
     "start_time": "2022-03-14T15:18:27.050320",
     "status": "completed"
    },
    "tags": []
   },
   "source": [
    "<div id='Chapter2'></div>\n",
    "\n",
    "## 2.0 Data Importing"
   ]
  },
  {
   "cell_type": "code",
   "execution_count": 2,
   "id": "591d7bb3",
   "metadata": {
    "execution": {
     "iopub.execute_input": "2022-03-14T15:18:27.288940Z",
     "iopub.status.busy": "2022-03-14T15:18:27.287199Z",
     "iopub.status.idle": "2022-03-14T15:18:28.476833Z",
     "shell.execute_reply": "2022-03-14T15:18:28.476191Z",
     "shell.execute_reply.started": "2022-03-14T15:17:32.806282Z"
    },
    "id": "U_anCdH5o_b8",
    "papermill": {
     "duration": 1.269801,
     "end_time": "2022-03-14T15:18:28.476988",
     "exception": false,
     "start_time": "2022-03-14T15:18:27.207187",
     "status": "completed"
    },
    "tags": []
   },
   "outputs": [],
   "source": [
    "ath = pd.read_csv(\"ath.csv\")\n",
    "reg = pd.read_csv(\"reg.csv\")\n"
   ]
  },
  {
   "cell_type": "markdown",
   "id": "e7dae36d",
   "metadata": {
    "id": "jwBcgok_7BRB",
    "papermill": {
     "duration": 0.075985,
     "end_time": "2022-03-14T15:18:28.629763",
     "exception": false,
     "start_time": "2022-03-14T15:18:28.553778",
     "status": "completed"
    },
    "tags": []
   },
   "source": [
    "<div id='Chapter3'></div>\n",
    "\n",
    "## 3.0 Initial Exploration of the dataset"
   ]
  },
  {
   "cell_type": "markdown",
   "id": "ef911d20",
   "metadata": {
    "id": "5RS64v-GzuVd",
    "papermill": {
     "duration": 0.078534,
     "end_time": "2022-03-14T15:18:29.462528",
     "exception": false,
     "start_time": "2022-03-14T15:18:29.383994",
     "status": "completed"
    },
    "tags": []
   },
   "source": [
    "<div id='Chapter4'></div>\n",
    "\n",
    "## 4.0 Merge Data of the dataset"
   ]
  },
  {
   "cell_type": "code",
   "execution_count": 3,
   "id": "b5901d48",
   "metadata": {
    "execution": {
     "iopub.execute_input": "2022-03-14T15:18:29.633608Z",
     "iopub.status.busy": "2022-03-14T15:18:29.632870Z",
     "iopub.status.idle": "2022-03-14T15:18:29.903206Z",
     "shell.execute_reply": "2022-03-14T15:18:29.901931Z",
     "shell.execute_reply.started": "2022-03-14T15:17:34.491669Z"
    },
    "id": "goTXehZku7G6",
    "papermill": {
     "duration": 0.359971,
     "end_time": "2022-03-14T15:18:29.903433",
     "exception": false,
     "start_time": "2022-03-14T15:18:29.543462",
     "status": "completed"
    },
    "tags": []
   },
   "outputs": [
    {
     "data": {
      "text/html": [
       "<div>\n",
       "<style scoped>\n",
       "    .dataframe tbody tr th:only-of-type {\n",
       "        vertical-align: middle;\n",
       "    }\n",
       "\n",
       "    .dataframe tbody tr th {\n",
       "        vertical-align: top;\n",
       "    }\n",
       "\n",
       "    .dataframe thead th {\n",
       "        text-align: right;\n",
       "    }\n",
       "</style>\n",
       "<table border=\"1\" class=\"dataframe\">\n",
       "  <thead>\n",
       "    <tr style=\"text-align: right;\">\n",
       "      <th></th>\n",
       "      <th>ID</th>\n",
       "      <th>Name</th>\n",
       "      <th>Sex</th>\n",
       "      <th>Age</th>\n",
       "      <th>Height</th>\n",
       "      <th>Weight</th>\n",
       "      <th>Team</th>\n",
       "      <th>NOC</th>\n",
       "      <th>Games</th>\n",
       "      <th>Year</th>\n",
       "      <th>Season</th>\n",
       "      <th>City</th>\n",
       "      <th>Sport</th>\n",
       "      <th>Event</th>\n",
       "      <th>Medal</th>\n",
       "      <th>region</th>\n",
       "      <th>notes</th>\n",
       "    </tr>\n",
       "  </thead>\n",
       "  <tbody>\n",
       "    <tr>\n",
       "      <th>0</th>\n",
       "      <td>1</td>\n",
       "      <td>A Dijiang</td>\n",
       "      <td>M</td>\n",
       "      <td>24.0</td>\n",
       "      <td>180.0</td>\n",
       "      <td>80.0</td>\n",
       "      <td>China</td>\n",
       "      <td>CHN</td>\n",
       "      <td>1992 Summer</td>\n",
       "      <td>1992</td>\n",
       "      <td>Summer</td>\n",
       "      <td>Barcelona</td>\n",
       "      <td>Basketball</td>\n",
       "      <td>Basketball Men's Basketball</td>\n",
       "      <td>NaN</td>\n",
       "      <td>China</td>\n",
       "      <td>NaN</td>\n",
       "    </tr>\n",
       "    <tr>\n",
       "      <th>1</th>\n",
       "      <td>2</td>\n",
       "      <td>A Lamusi</td>\n",
       "      <td>M</td>\n",
       "      <td>23.0</td>\n",
       "      <td>170.0</td>\n",
       "      <td>60.0</td>\n",
       "      <td>China</td>\n",
       "      <td>CHN</td>\n",
       "      <td>2012 Summer</td>\n",
       "      <td>2012</td>\n",
       "      <td>Summer</td>\n",
       "      <td>London</td>\n",
       "      <td>Judo</td>\n",
       "      <td>Judo Men's Extra-Lightweight</td>\n",
       "      <td>NaN</td>\n",
       "      <td>China</td>\n",
       "      <td>NaN</td>\n",
       "    </tr>\n",
       "    <tr>\n",
       "      <th>2</th>\n",
       "      <td>3</td>\n",
       "      <td>Gunnar Nielsen Aaby</td>\n",
       "      <td>M</td>\n",
       "      <td>24.0</td>\n",
       "      <td>NaN</td>\n",
       "      <td>NaN</td>\n",
       "      <td>Denmark</td>\n",
       "      <td>DEN</td>\n",
       "      <td>1920 Summer</td>\n",
       "      <td>1920</td>\n",
       "      <td>Summer</td>\n",
       "      <td>Antwerpen</td>\n",
       "      <td>Football</td>\n",
       "      <td>Football Men's Football</td>\n",
       "      <td>NaN</td>\n",
       "      <td>Denmark</td>\n",
       "      <td>NaN</td>\n",
       "    </tr>\n",
       "    <tr>\n",
       "      <th>3</th>\n",
       "      <td>4</td>\n",
       "      <td>Edgar Lindenau Aabye</td>\n",
       "      <td>M</td>\n",
       "      <td>34.0</td>\n",
       "      <td>NaN</td>\n",
       "      <td>NaN</td>\n",
       "      <td>Denmark/Sweden</td>\n",
       "      <td>DEN</td>\n",
       "      <td>1900 Summer</td>\n",
       "      <td>1900</td>\n",
       "      <td>Summer</td>\n",
       "      <td>Paris</td>\n",
       "      <td>Tug-Of-War</td>\n",
       "      <td>Tug-Of-War Men's Tug-Of-War</td>\n",
       "      <td>Gold</td>\n",
       "      <td>Denmark</td>\n",
       "      <td>NaN</td>\n",
       "    </tr>\n",
       "    <tr>\n",
       "      <th>4</th>\n",
       "      <td>5</td>\n",
       "      <td>Christine Jacoba Aaftink</td>\n",
       "      <td>F</td>\n",
       "      <td>21.0</td>\n",
       "      <td>185.0</td>\n",
       "      <td>82.0</td>\n",
       "      <td>Netherlands</td>\n",
       "      <td>NED</td>\n",
       "      <td>1988 Winter</td>\n",
       "      <td>1988</td>\n",
       "      <td>Winter</td>\n",
       "      <td>Calgary</td>\n",
       "      <td>Speed Skating</td>\n",
       "      <td>Speed Skating Women's 500 metres</td>\n",
       "      <td>NaN</td>\n",
       "      <td>Netherlands</td>\n",
       "      <td>NaN</td>\n",
       "    </tr>\n",
       "  </tbody>\n",
       "</table>\n",
       "</div>"
      ],
      "text/plain": [
       "   ID                      Name Sex   Age  Height  Weight            Team  \\\n",
       "0   1                 A Dijiang   M  24.0   180.0    80.0           China   \n",
       "1   2                  A Lamusi   M  23.0   170.0    60.0           China   \n",
       "2   3       Gunnar Nielsen Aaby   M  24.0     NaN     NaN         Denmark   \n",
       "3   4      Edgar Lindenau Aabye   M  34.0     NaN     NaN  Denmark/Sweden   \n",
       "4   5  Christine Jacoba Aaftink   F  21.0   185.0    82.0     Netherlands   \n",
       "\n",
       "   NOC        Games  Year  Season       City          Sport  \\\n",
       "0  CHN  1992 Summer  1992  Summer  Barcelona     Basketball   \n",
       "1  CHN  2012 Summer  2012  Summer     London           Judo   \n",
       "2  DEN  1920 Summer  1920  Summer  Antwerpen       Football   \n",
       "3  DEN  1900 Summer  1900  Summer      Paris     Tug-Of-War   \n",
       "4  NED  1988 Winter  1988  Winter    Calgary  Speed Skating   \n",
       "\n",
       "                              Event Medal       region notes  \n",
       "0       Basketball Men's Basketball   NaN        China   NaN  \n",
       "1      Judo Men's Extra-Lightweight   NaN        China   NaN  \n",
       "2           Football Men's Football   NaN      Denmark   NaN  \n",
       "3       Tug-Of-War Men's Tug-Of-War  Gold      Denmark   NaN  \n",
       "4  Speed Skating Women's 500 metres   NaN  Netherlands   NaN  "
      ]
     },
     "execution_count": 3,
     "metadata": {},
     "output_type": "execute_result"
    }
   ],
   "source": [
    "df = pd.merge(ath,reg,how = 'left',on = 'NOC')\n",
    "df.head()"
   ]
  },
  {
   "cell_type": "code",
   "execution_count": 4,
   "id": "75af0ed1",
   "metadata": {},
   "outputs": [
    {
     "data": {
      "text/html": [
       "<div>\n",
       "<style scoped>\n",
       "    .dataframe tbody tr th:only-of-type {\n",
       "        vertical-align: middle;\n",
       "    }\n",
       "\n",
       "    .dataframe tbody tr th {\n",
       "        vertical-align: top;\n",
       "    }\n",
       "\n",
       "    .dataframe thead th {\n",
       "        text-align: right;\n",
       "    }\n",
       "</style>\n",
       "<table border=\"1\" class=\"dataframe\">\n",
       "  <thead>\n",
       "    <tr style=\"text-align: right;\">\n",
       "      <th></th>\n",
       "      <th>ID</th>\n",
       "      <th>Age</th>\n",
       "      <th>Height</th>\n",
       "      <th>Weight</th>\n",
       "      <th>Year</th>\n",
       "    </tr>\n",
       "  </thead>\n",
       "  <tbody>\n",
       "    <tr>\n",
       "      <th>ID</th>\n",
       "      <td>1.000000</td>\n",
       "      <td>-0.003631</td>\n",
       "      <td>-0.011141</td>\n",
       "      <td>-0.009176</td>\n",
       "      <td>0.011885</td>\n",
       "    </tr>\n",
       "    <tr>\n",
       "      <th>Age</th>\n",
       "      <td>-0.003631</td>\n",
       "      <td>1.000000</td>\n",
       "      <td>0.138246</td>\n",
       "      <td>0.212069</td>\n",
       "      <td>-0.115137</td>\n",
       "    </tr>\n",
       "    <tr>\n",
       "      <th>Height</th>\n",
       "      <td>-0.011141</td>\n",
       "      <td>0.138246</td>\n",
       "      <td>1.000000</td>\n",
       "      <td>0.796213</td>\n",
       "      <td>0.047578</td>\n",
       "    </tr>\n",
       "    <tr>\n",
       "      <th>Weight</th>\n",
       "      <td>-0.009176</td>\n",
       "      <td>0.212069</td>\n",
       "      <td>0.796213</td>\n",
       "      <td>1.000000</td>\n",
       "      <td>0.019095</td>\n",
       "    </tr>\n",
       "    <tr>\n",
       "      <th>Year</th>\n",
       "      <td>0.011885</td>\n",
       "      <td>-0.115137</td>\n",
       "      <td>0.047578</td>\n",
       "      <td>0.019095</td>\n",
       "      <td>1.000000</td>\n",
       "    </tr>\n",
       "  </tbody>\n",
       "</table>\n",
       "</div>"
      ],
      "text/plain": [
       "              ID       Age    Height    Weight      Year\n",
       "ID      1.000000 -0.003631 -0.011141 -0.009176  0.011885\n",
       "Age    -0.003631  1.000000  0.138246  0.212069 -0.115137\n",
       "Height -0.011141  0.138246  1.000000  0.796213  0.047578\n",
       "Weight -0.009176  0.212069  0.796213  1.000000  0.019095\n",
       "Year    0.011885 -0.115137  0.047578  0.019095  1.000000"
      ]
     },
     "execution_count": 4,
     "metadata": {},
     "output_type": "execute_result"
    }
   ],
   "source": [
    "cor = df.corr()\n",
    "cor"
   ]
  },
  {
   "cell_type": "code",
   "execution_count": 5,
   "id": "449d3d57",
   "metadata": {},
   "outputs": [
    {
     "data": {
      "text/plain": [
       "<matplotlib.axes._subplots.AxesSubplot at 0x1a76ca30d00>"
      ]
     },
     "execution_count": 5,
     "metadata": {},
     "output_type": "execute_result"
    },
    {
     "data": {
      "image/png": "[encoded data removed]",
      "text/plain": [
       "<Figure size 432x288 with 2 Axes>"
      ]
     },
     "metadata": {
      "needs_background": "light"
     },
     "output_type": "display_data"
    }
   ],
   "source": [
    "import seaborn as sns\n",
    "sns.heatmap(cor,annot = True)"
   ]
  },
  {
   "cell_type": "code",
   "execution_count": 52,
   "id": "fff9ba5c",
   "metadata": {},
   "outputs": [],
   "source": [
    "#sns.pairplot(df)"
   ]
  },
  {
   "cell_type": "code",
   "execution_count": 53,
   "id": "da1998a9",
   "metadata": {
    "execution": {
     "iopub.execute_input": "2022-03-14T15:18:30.076588Z",
     "iopub.status.busy": "2022-03-14T15:18:30.065197Z",
     "iopub.status.idle": "2022-03-14T15:18:30.218990Z",
     "shell.execute_reply": "2022-03-14T15:18:30.218297Z",
     "shell.execute_reply.started": "2022-03-14T15:17:34.769208Z"
    },
    "id": "cC85jaWC8P_B",
    "papermill": {
     "duration": 0.237021,
     "end_time": "2022-03-14T15:18:30.219245",
     "exception": false,
     "start_time": "2022-03-14T15:18:29.982224",
     "status": "completed"
    },
    "tags": []
   },
   "outputs": [
    {
     "data": {
      "text/html": [
       "<div>\n",
       "<style scoped>\n",
       "    .dataframe tbody tr th:only-of-type {\n",
       "        vertical-align: middle;\n",
       "    }\n",
       "\n",
       "    .dataframe tbody tr th {\n",
       "        vertical-align: top;\n",
       "    }\n",
       "\n",
       "    .dataframe thead th {\n",
       "        text-align: right;\n",
       "    }\n",
       "</style>\n",
       "<table border=\"1\" class=\"dataframe\">\n",
       "  <thead>\n",
       "    <tr style=\"text-align: right;\">\n",
       "      <th></th>\n",
       "      <th>ID</th>\n",
       "      <th>Name</th>\n",
       "      <th>Sex</th>\n",
       "      <th>Age</th>\n",
       "      <th>Height</th>\n",
       "      <th>Weight</th>\n",
       "      <th>Team</th>\n",
       "      <th>NOC</th>\n",
       "      <th>Games</th>\n",
       "      <th>Year</th>\n",
       "      <th>...</th>\n",
       "      <th>Sport</th>\n",
       "      <th>Event</th>\n",
       "      <th>Medal</th>\n",
       "      <th>Region</th>\n",
       "      <th>Notes</th>\n",
       "      <th>Miss_data</th>\n",
       "      <th>Bronze</th>\n",
       "      <th>Gold</th>\n",
       "      <th>No Medal</th>\n",
       "      <th>Silver</th>\n",
       "    </tr>\n",
       "  </thead>\n",
       "  <tbody>\n",
       "    <tr>\n",
       "      <th>0</th>\n",
       "      <td>1</td>\n",
       "      <td>A Dijiang</td>\n",
       "      <td>M</td>\n",
       "      <td>24.0</td>\n",
       "      <td>180.000000</td>\n",
       "      <td>80.000000</td>\n",
       "      <td>China</td>\n",
       "      <td>CHN</td>\n",
       "      <td>1992 Summer</td>\n",
       "      <td>1992</td>\n",
       "      <td>...</td>\n",
       "      <td>Basketball</td>\n",
       "      <td>Basketball Men's Basketball</td>\n",
       "      <td>No Medal</td>\n",
       "      <td>China</td>\n",
       "      <td>No Notes</td>\n",
       "      <td>2</td>\n",
       "      <td>0</td>\n",
       "      <td>0</td>\n",
       "      <td>1</td>\n",
       "      <td>0</td>\n",
       "    </tr>\n",
       "    <tr>\n",
       "      <th>1</th>\n",
       "      <td>2</td>\n",
       "      <td>A Lamusi</td>\n",
       "      <td>M</td>\n",
       "      <td>23.0</td>\n",
       "      <td>170.000000</td>\n",
       "      <td>60.000000</td>\n",
       "      <td>China</td>\n",
       "      <td>CHN</td>\n",
       "      <td>2012 Summer</td>\n",
       "      <td>2012</td>\n",
       "      <td>...</td>\n",
       "      <td>Judo</td>\n",
       "      <td>Judo Men's Extra-Lightweight</td>\n",
       "      <td>No Medal</td>\n",
       "      <td>China</td>\n",
       "      <td>No Notes</td>\n",
       "      <td>2</td>\n",
       "      <td>0</td>\n",
       "      <td>0</td>\n",
       "      <td>1</td>\n",
       "      <td>0</td>\n",
       "    </tr>\n",
       "    <tr>\n",
       "      <th>2</th>\n",
       "      <td>3</td>\n",
       "      <td>Gunnar Nielsen Aaby</td>\n",
       "      <td>M</td>\n",
       "      <td>24.0</td>\n",
       "      <td>175.338953</td>\n",
       "      <td>70.701778</td>\n",
       "      <td>Denmark</td>\n",
       "      <td>DEN</td>\n",
       "      <td>1920 Summer</td>\n",
       "      <td>1920</td>\n",
       "      <td>...</td>\n",
       "      <td>Football</td>\n",
       "      <td>Football Men's Football</td>\n",
       "      <td>No Medal</td>\n",
       "      <td>Denmark</td>\n",
       "      <td>No Notes</td>\n",
       "      <td>4</td>\n",
       "      <td>0</td>\n",
       "      <td>0</td>\n",
       "      <td>1</td>\n",
       "      <td>0</td>\n",
       "    </tr>\n",
       "    <tr>\n",
       "      <th>3</th>\n",
       "      <td>4</td>\n",
       "      <td>Edgar Lindenau Aabye</td>\n",
       "      <td>M</td>\n",
       "      <td>34.0</td>\n",
       "      <td>175.338953</td>\n",
       "      <td>70.701778</td>\n",
       "      <td>Denmark/Sweden</td>\n",
       "      <td>DEN</td>\n",
       "      <td>1900 Summer</td>\n",
       "      <td>1900</td>\n",
       "      <td>...</td>\n",
       "      <td>Tug-Of-War</td>\n",
       "      <td>Tug-Of-War Men's Tug-Of-War</td>\n",
       "      <td>Gold</td>\n",
       "      <td>Denmark</td>\n",
       "      <td>No Notes</td>\n",
       "      <td>3</td>\n",
       "      <td>0</td>\n",
       "      <td>1</td>\n",
       "      <td>0</td>\n",
       "      <td>0</td>\n",
       "    </tr>\n",
       "    <tr>\n",
       "      <th>4</th>\n",
       "      <td>5</td>\n",
       "      <td>Christine Jacoba Aaftink</td>\n",
       "      <td>F</td>\n",
       "      <td>21.0</td>\n",
       "      <td>185.000000</td>\n",
       "      <td>82.000000</td>\n",
       "      <td>Netherlands</td>\n",
       "      <td>NED</td>\n",
       "      <td>1988 Winter</td>\n",
       "      <td>1988</td>\n",
       "      <td>...</td>\n",
       "      <td>Speed Skating</td>\n",
       "      <td>Speed Skating Women's 500 metres</td>\n",
       "      <td>No Medal</td>\n",
       "      <td>Netherlands</td>\n",
       "      <td>No Notes</td>\n",
       "      <td>2</td>\n",
       "      <td>0</td>\n",
       "      <td>0</td>\n",
       "      <td>1</td>\n",
       "      <td>0</td>\n",
       "    </tr>\n",
       "  </tbody>\n",
       "</table>\n",
       "<p>5 rows × 22 columns</p>\n",
       "</div>"
      ],
      "text/plain": [
       "   ID                      Name Sex   Age      Height     Weight  \\\n",
       "0   1                 A Dijiang   M  24.0  180.000000  80.000000   \n",
       "1   2                  A Lamusi   M  23.0  170.000000  60.000000   \n",
       "2   3       Gunnar Nielsen Aaby   M  24.0  175.338953  70.701778   \n",
       "3   4      Edgar Lindenau Aabye   M  34.0  175.338953  70.701778   \n",
       "4   5  Christine Jacoba Aaftink   F  21.0  185.000000  82.000000   \n",
       "\n",
       "             Team  NOC        Games  Year  ...          Sport  \\\n",
       "0           China  CHN  1992 Summer  1992  ...     Basketball   \n",
       "1           China  CHN  2012 Summer  2012  ...           Judo   \n",
       "2         Denmark  DEN  1920 Summer  1920  ...       Football   \n",
       "3  Denmark/Sweden  DEN  1900 Summer  1900  ...     Tug-Of-War   \n",
       "4     Netherlands  NED  1988 Winter  1988  ...  Speed Skating   \n",
       "\n",
       "                              Event     Medal       Region     Notes  \\\n",
       "0       Basketball Men's Basketball  No Medal        China  No Notes   \n",
       "1      Judo Men's Extra-Lightweight  No Medal        China  No Notes   \n",
       "2           Football Men's Football  No Medal      Denmark  No Notes   \n",
       "3       Tug-Of-War Men's Tug-Of-War      Gold      Denmark  No Notes   \n",
       "4  Speed Skating Women's 500 metres  No Medal  Netherlands  No Notes   \n",
       "\n",
       "  Miss_data Bronze  Gold  No Medal  Silver  \n",
       "0         2      0     0         1       0  \n",
       "1         2      0     0         1       0  \n",
       "2         4      0     0         1       0  \n",
       "3         3      0     1         0       0  \n",
       "4         2      0     0         1       0  \n",
       "\n",
       "[5 rows x 22 columns]"
      ]
     },
     "execution_count": 53,
     "metadata": {},
     "output_type": "execute_result"
    }
   ],
   "source": [
    "# Capitilize name of columns\n",
    "df = df.rename(columns={'region':'Region', 'notes':'Notes'})\n",
    "df.head()\n"
   ]
  },
  {
   "cell_type": "markdown",
   "id": "71e51c4c",
   "metadata": {
    "id": "WYi3skOiz6pI",
    "papermill": {
     "duration": 0.077986,
     "end_time": "2022-03-14T15:18:30.377348",
     "exception": false,
     "start_time": "2022-03-14T15:18:30.299362",
     "status": "completed"
    },
    "tags": []
   },
   "source": [
    "<div id='Chapter5'></div>\n",
    "\n",
    "## 5.0 Cleaning Data"
   ]
  },
  {
   "cell_type": "code",
   "execution_count": 54,
   "id": "33a54c5e",
   "metadata": {
    "execution": {
     "iopub.execute_input": "2022-03-14T15:18:30.538279Z",
     "iopub.status.busy": "2022-03-14T15:18:30.537561Z",
     "iopub.status.idle": "2022-03-14T15:18:30.956117Z",
     "shell.execute_reply": "2022-03-14T15:18:30.955553Z",
     "shell.execute_reply.started": "2022-03-14T15:17:34.940352Z"
    },
    "id": "fV3hcSq1j_C8",
    "outputId": "b51a48a3-4579-4a7b-cd25-da2e378ebe58",
    "papermill": {
     "duration": 0.500814,
     "end_time": "2022-03-14T15:18:30.956274",
     "exception": false,
     "start_time": "2022-03-14T15:18:30.455460",
     "status": "completed"
    },
    "tags": []
   },
   "outputs": [
    {
     "data": {
      "text/plain": [
       "0"
      ]
     },
     "execution_count": 54,
     "metadata": {},
     "output_type": "execute_result"
    }
   ],
   "source": [
    "# find duplicates in data\n",
    "df.duplicated().sum()"
   ]
  },
  {
   "cell_type": "code",
   "execution_count": 55,
   "id": "07f46156",
   "metadata": {
    "execution": {
     "iopub.execute_input": "2022-03-14T15:18:31.120888Z",
     "iopub.status.busy": "2022-03-14T15:18:31.119897Z",
     "iopub.status.idle": "2022-03-14T15:18:31.578138Z",
     "shell.execute_reply": "2022-03-14T15:18:31.577555Z",
     "shell.execute_reply.started": "2022-03-14T15:17:35.357792Z"
    },
    "id": "ZF4HYHFqj_C-",
    "papermill": {
     "duration": 0.539479,
     "end_time": "2022-03-14T15:18:31.578343",
     "exception": false,
     "start_time": "2022-03-14T15:18:31.038864",
     "status": "completed"
    },
    "tags": []
   },
   "outputs": [],
   "source": [
    "# drop duplicates in data\n",
    "df = df.drop_duplicates()  "
   ]
  },
  {
   "cell_type": "code",
   "execution_count": 56,
   "id": "6645b6cb",
   "metadata": {
    "execution": {
     "iopub.execute_input": "2022-03-14T15:18:32.336829Z",
     "iopub.status.busy": "2022-03-14T15:18:32.335906Z",
     "iopub.status.idle": "2022-03-14T15:18:32.660943Z",
     "shell.execute_reply": "2022-03-14T15:18:32.660316Z",
     "shell.execute_reply.started": "2022-03-14T15:17:37.022881Z"
    },
    "id": "CSTHyMHHj_DB",
    "outputId": "fbe1be4e-ddeb-485b-efeb-950b76ccb17d",
    "papermill": {
     "duration": 0.408991,
     "end_time": "2022-03-14T15:18:32.661080",
     "exception": false,
     "start_time": "2022-03-14T15:18:32.252089",
     "status": "completed"
    },
    "tags": []
   },
   "outputs": [
    {
     "data": {
      "text/plain": [
       "ID           0\n",
       "Name         0\n",
       "Sex          0\n",
       "Age          0\n",
       "Height       0\n",
       "Weight       0\n",
       "Team         0\n",
       "NOC          0\n",
       "Games        0\n",
       "Year         0\n",
       "Season       0\n",
       "City         0\n",
       "Sport        0\n",
       "Event        0\n",
       "Medal        0\n",
       "Region       0\n",
       "Notes        0\n",
       "Miss_data    0\n",
       "Bronze       0\n",
       "Gold         0\n",
       "No Medal     0\n",
       "Silver       0\n",
       "dtype: int64"
      ]
     },
     "execution_count": 56,
     "metadata": {},
     "output_type": "execute_result"
    }
   ],
   "source": [
    "# find count missing data\n",
    "df.isnull().sum() "
   ]
  },
  {
   "cell_type": "code",
   "execution_count": 57,
   "id": "25dde56e",
   "metadata": {
    "execution": {
     "iopub.execute_input": "2022-03-14T15:18:32.825753Z",
     "iopub.status.busy": "2022-03-14T15:18:32.824852Z",
     "iopub.status.idle": "2022-03-14T15:18:33.598293Z",
     "shell.execute_reply": "2022-03-14T15:18:33.598790Z",
     "shell.execute_reply.started": "2022-03-14T15:17:38.540046Z"
    },
    "id": "z-JOjmRj9_cL",
    "outputId": "bc7e6891-282c-44d7-bb10-ff8821a9061a",
    "papermill": {
     "duration": 0.858745,
     "end_time": "2022-03-14T15:18:33.598951",
     "exception": false,
     "start_time": "2022-03-14T15:18:32.740206",
     "status": "completed"
    },
    "tags": []
   },
   "outputs": [
    {
     "data": {
      "text/plain": [
       "<matplotlib.axes._subplots.AxesSubplot at 0x1a7053269d0>"
      ]
     },
     "execution_count": 57,
     "metadata": {},
     "output_type": "execute_result"
    },
    {
     "data": {
      "image/png": "[encoded data removed]",
      "text/plain": [
       "<Figure size 1296x576 with 1 Axes>"
      ]
     },
     "metadata": {
      "needs_background": "light"
     },
     "output_type": "display_data"
    }
   ],
   "source": [
    "# plot total missing data for each year\n",
    "df[\"Miss_data\"] = df.isnull().sum(1)\n",
    "\n",
    "n_miss_data=df.groupby(['Year'])['Miss_data'].sum().sort_values(ascending=True)\n",
    "plt.figure(figsize=(18,8))\n",
    "n_miss_data.plot(kind='bar', color='yellow')\n"
   ]
  },
  {
   "cell_type": "code",
   "execution_count": 58,
   "id": "07701c65",
   "metadata": {},
   "outputs": [
    {
     "data": {
      "text/plain": [
       "ID           0\n",
       "Name         0\n",
       "Sex          0\n",
       "Age          0\n",
       "Height       0\n",
       "Weight       0\n",
       "Team         0\n",
       "NOC          0\n",
       "Games        0\n",
       "Year         0\n",
       "Season       0\n",
       "City         0\n",
       "Sport        0\n",
       "Event        0\n",
       "Medal        0\n",
       "Region       0\n",
       "Notes        0\n",
       "Miss_data    0\n",
       "Bronze       0\n",
       "Gold         0\n",
       "No Medal     0\n",
       "Silver       0\n",
       "dtype: int64"
      ]
     },
     "execution_count": 58,
     "metadata": {},
     "output_type": "execute_result"
    }
   ],
   "source": [
    "# find the null values\n",
    "df.isnull().sum()"
   ]
  },
  {
   "cell_type": "code",
   "execution_count": 59,
   "id": "d86f18b9",
   "metadata": {
    "execution": {
     "iopub.execute_input": "2022-03-14T15:18:33.767235Z",
     "iopub.status.busy": "2022-03-14T15:18:33.766237Z",
     "iopub.status.idle": "2022-03-14T15:18:33.775095Z",
     "shell.execute_reply": "2022-03-14T15:18:33.774592Z",
     "shell.execute_reply.started": "2022-03-14T15:17:39.297465Z"
    },
    "id": "3w-tweBij_DD",
    "papermill": {
     "duration": 0.09541,
     "end_time": "2022-03-14T15:18:33.775273",
     "exception": false,
     "start_time": "2022-03-14T15:18:33.679863",
     "status": "completed"
    },
    "tags": []
   },
   "outputs": [],
   "source": [
    "df['Age'].fillna((df['Age'].mean()),inplace=True)\n",
    "df['Height'].fillna((df['Height'].mean()),inplace=True)\n",
    "df['Weight'].fillna((df['Weight'].mean()),inplace=True)"
   ]
  },
  {
   "cell_type": "code",
   "execution_count": 60,
   "id": "08749889",
   "metadata": {},
   "outputs": [
    {
     "data": {
      "text/html": [
       "<div>\n",
       "<style scoped>\n",
       "    .dataframe tbody tr th:only-of-type {\n",
       "        vertical-align: middle;\n",
       "    }\n",
       "\n",
       "    .dataframe tbody tr th {\n",
       "        vertical-align: top;\n",
       "    }\n",
       "\n",
       "    .dataframe thead th {\n",
       "        text-align: right;\n",
       "    }\n",
       "</style>\n",
       "<table border=\"1\" class=\"dataframe\">\n",
       "  <thead>\n",
       "    <tr style=\"text-align: right;\">\n",
       "      <th></th>\n",
       "      <th>ID</th>\n",
       "      <th>Name</th>\n",
       "      <th>Sex</th>\n",
       "      <th>Age</th>\n",
       "      <th>Height</th>\n",
       "      <th>Weight</th>\n",
       "      <th>Team</th>\n",
       "      <th>NOC</th>\n",
       "      <th>Games</th>\n",
       "      <th>Year</th>\n",
       "      <th>...</th>\n",
       "      <th>Sport</th>\n",
       "      <th>Event</th>\n",
       "      <th>Medal</th>\n",
       "      <th>Region</th>\n",
       "      <th>Notes</th>\n",
       "      <th>Miss_data</th>\n",
       "      <th>Bronze</th>\n",
       "      <th>Gold</th>\n",
       "      <th>No Medal</th>\n",
       "      <th>Silver</th>\n",
       "    </tr>\n",
       "  </thead>\n",
       "  <tbody>\n",
       "    <tr>\n",
       "      <th>0</th>\n",
       "      <td>1</td>\n",
       "      <td>A Dijiang</td>\n",
       "      <td>M</td>\n",
       "      <td>24.0</td>\n",
       "      <td>180.000000</td>\n",
       "      <td>80.000000</td>\n",
       "      <td>China</td>\n",
       "      <td>CHN</td>\n",
       "      <td>1992 Summer</td>\n",
       "      <td>1992</td>\n",
       "      <td>...</td>\n",
       "      <td>Basketball</td>\n",
       "      <td>Basketball Men's Basketball</td>\n",
       "      <td>No Medal</td>\n",
       "      <td>China</td>\n",
       "      <td>No Notes</td>\n",
       "      <td>0</td>\n",
       "      <td>0</td>\n",
       "      <td>0</td>\n",
       "      <td>1</td>\n",
       "      <td>0</td>\n",
       "    </tr>\n",
       "    <tr>\n",
       "      <th>1</th>\n",
       "      <td>2</td>\n",
       "      <td>A Lamusi</td>\n",
       "      <td>M</td>\n",
       "      <td>23.0</td>\n",
       "      <td>170.000000</td>\n",
       "      <td>60.000000</td>\n",
       "      <td>China</td>\n",
       "      <td>CHN</td>\n",
       "      <td>2012 Summer</td>\n",
       "      <td>2012</td>\n",
       "      <td>...</td>\n",
       "      <td>Judo</td>\n",
       "      <td>Judo Men's Extra-Lightweight</td>\n",
       "      <td>No Medal</td>\n",
       "      <td>China</td>\n",
       "      <td>No Notes</td>\n",
       "      <td>0</td>\n",
       "      <td>0</td>\n",
       "      <td>0</td>\n",
       "      <td>1</td>\n",
       "      <td>0</td>\n",
       "    </tr>\n",
       "    <tr>\n",
       "      <th>2</th>\n",
       "      <td>3</td>\n",
       "      <td>Gunnar Nielsen Aaby</td>\n",
       "      <td>M</td>\n",
       "      <td>24.0</td>\n",
       "      <td>175.338953</td>\n",
       "      <td>70.701778</td>\n",
       "      <td>Denmark</td>\n",
       "      <td>DEN</td>\n",
       "      <td>1920 Summer</td>\n",
       "      <td>1920</td>\n",
       "      <td>...</td>\n",
       "      <td>Football</td>\n",
       "      <td>Football Men's Football</td>\n",
       "      <td>No Medal</td>\n",
       "      <td>Denmark</td>\n",
       "      <td>No Notes</td>\n",
       "      <td>0</td>\n",
       "      <td>0</td>\n",
       "      <td>0</td>\n",
       "      <td>1</td>\n",
       "      <td>0</td>\n",
       "    </tr>\n",
       "    <tr>\n",
       "      <th>3</th>\n",
       "      <td>4</td>\n",
       "      <td>Edgar Lindenau Aabye</td>\n",
       "      <td>M</td>\n",
       "      <td>34.0</td>\n",
       "      <td>175.338953</td>\n",
       "      <td>70.701778</td>\n",
       "      <td>Denmark/Sweden</td>\n",
       "      <td>DEN</td>\n",
       "      <td>1900 Summer</td>\n",
       "      <td>1900</td>\n",
       "      <td>...</td>\n",
       "      <td>Tug-Of-War</td>\n",
       "      <td>Tug-Of-War Men's Tug-Of-War</td>\n",
       "      <td>Gold</td>\n",
       "      <td>Denmark</td>\n",
       "      <td>No Notes</td>\n",
       "      <td>0</td>\n",
       "      <td>0</td>\n",
       "      <td>1</td>\n",
       "      <td>0</td>\n",
       "      <td>0</td>\n",
       "    </tr>\n",
       "    <tr>\n",
       "      <th>4</th>\n",
       "      <td>5</td>\n",
       "      <td>Christine Jacoba Aaftink</td>\n",
       "      <td>F</td>\n",
       "      <td>21.0</td>\n",
       "      <td>185.000000</td>\n",
       "      <td>82.000000</td>\n",
       "      <td>Netherlands</td>\n",
       "      <td>NED</td>\n",
       "      <td>1988 Winter</td>\n",
       "      <td>1988</td>\n",
       "      <td>...</td>\n",
       "      <td>Speed Skating</td>\n",
       "      <td>Speed Skating Women's 500 metres</td>\n",
       "      <td>No Medal</td>\n",
       "      <td>Netherlands</td>\n",
       "      <td>No Notes</td>\n",
       "      <td>0</td>\n",
       "      <td>0</td>\n",
       "      <td>0</td>\n",
       "      <td>1</td>\n",
       "      <td>0</td>\n",
       "    </tr>\n",
       "  </tbody>\n",
       "</table>\n",
       "<p>5 rows × 22 columns</p>\n",
       "</div>"
      ],
      "text/plain": [
       "   ID                      Name Sex   Age      Height     Weight  \\\n",
       "0   1                 A Dijiang   M  24.0  180.000000  80.000000   \n",
       "1   2                  A Lamusi   M  23.0  170.000000  60.000000   \n",
       "2   3       Gunnar Nielsen Aaby   M  24.0  175.338953  70.701778   \n",
       "3   4      Edgar Lindenau Aabye   M  34.0  175.338953  70.701778   \n",
       "4   5  Christine Jacoba Aaftink   F  21.0  185.000000  82.000000   \n",
       "\n",
       "             Team  NOC        Games  Year  ...          Sport  \\\n",
       "0           China  CHN  1992 Summer  1992  ...     Basketball   \n",
       "1           China  CHN  2012 Summer  2012  ...           Judo   \n",
       "2         Denmark  DEN  1920 Summer  1920  ...       Football   \n",
       "3  Denmark/Sweden  DEN  1900 Summer  1900  ...     Tug-Of-War   \n",
       "4     Netherlands  NED  1988 Winter  1988  ...  Speed Skating   \n",
       "\n",
       "                              Event     Medal       Region     Notes  \\\n",
       "0       Basketball Men's Basketball  No Medal        China  No Notes   \n",
       "1      Judo Men's Extra-Lightweight  No Medal        China  No Notes   \n",
       "2           Football Men's Football  No Medal      Denmark  No Notes   \n",
       "3       Tug-Of-War Men's Tug-Of-War      Gold      Denmark  No Notes   \n",
       "4  Speed Skating Women's 500 metres  No Medal  Netherlands  No Notes   \n",
       "\n",
       "  Miss_data Bronze  Gold  No Medal  Silver  \n",
       "0         0      0     0         1       0  \n",
       "1         0      0     0         1       0  \n",
       "2         0      0     0         1       0  \n",
       "3         0      0     1         0       0  \n",
       "4         0      0     0         1       0  \n",
       "\n",
       "[5 rows x 22 columns]"
      ]
     },
     "execution_count": 60,
     "metadata": {},
     "output_type": "execute_result"
    }
   ],
   "source": [
    "df.head()"
   ]
  },
  {
   "cell_type": "code",
   "execution_count": 61,
   "id": "480b5a9e",
   "metadata": {
    "execution": {
     "iopub.execute_input": "2022-03-14T15:18:33.974119Z",
     "iopub.status.busy": "2022-03-14T15:18:33.972701Z",
     "iopub.status.idle": "2022-03-14T15:18:33.976214Z",
     "shell.execute_reply": "2022-03-14T15:18:33.976669Z",
     "shell.execute_reply.started": "2022-03-14T15:17:39.311451Z"
    },
    "id": "xIC8Ks8uoniC",
    "papermill": {
     "duration": 0.120014,
     "end_time": "2022-03-14T15:18:33.976850",
     "exception": false,
     "start_time": "2022-03-14T15:18:33.856836",
     "status": "completed"
    },
    "tags": []
   },
   "outputs": [],
   "source": [
    "df['Region'].fillna(df['Team'],inplace=True)"
   ]
  },
  {
   "cell_type": "code",
   "execution_count": 62,
   "id": "6fcbdf78",
   "metadata": {
    "execution": {
     "iopub.execute_input": "2022-03-14T15:18:34.142223Z",
     "iopub.status.busy": "2022-03-14T15:18:34.141559Z",
     "iopub.status.idle": "2022-03-14T15:18:34.162485Z",
     "shell.execute_reply": "2022-03-14T15:18:34.161899Z",
     "shell.execute_reply.started": "2022-03-14T15:17:39.533865Z"
    },
    "id": "TJ9hdtdzo9in",
    "papermill": {
     "duration": 0.104372,
     "end_time": "2022-03-14T15:18:34.162642",
     "exception": false,
     "start_time": "2022-03-14T15:18:34.058270",
     "status": "completed"
    },
    "tags": []
   },
   "outputs": [],
   "source": [
    "df['Notes'].fillna('No Notes',inplace=True)"
   ]
  },
  {
   "cell_type": "code",
   "execution_count": 63,
   "id": "6aa6baa7",
   "metadata": {
    "execution": {
     "iopub.execute_input": "2022-03-14T15:18:34.329266Z",
     "iopub.status.busy": "2022-03-14T15:18:34.328606Z",
     "iopub.status.idle": "2022-03-14T15:18:34.350873Z",
     "shell.execute_reply": "2022-03-14T15:18:34.351363Z",
     "shell.execute_reply.started": "2022-03-14T15:17:39.557575Z"
    },
    "id": "h8tEeiQwj_DF",
    "papermill": {
     "duration": 0.108167,
     "end_time": "2022-03-14T15:18:34.351543",
     "exception": false,
     "start_time": "2022-03-14T15:18:34.243376",
     "status": "completed"
    },
    "tags": []
   },
   "outputs": [],
   "source": [
    "df['Medal'].fillna('No Medal',inplace =True)"
   ]
  },
  {
   "cell_type": "code",
   "execution_count": 64,
   "id": "678d77ad",
   "metadata": {
    "execution": {
     "iopub.execute_input": "2022-03-14T15:18:34.518452Z",
     "iopub.status.busy": "2022-03-14T15:18:34.517820Z",
     "iopub.status.idle": "2022-03-14T15:18:34.872350Z",
     "shell.execute_reply": "2022-03-14T15:18:34.872876Z",
     "shell.execute_reply.started": "2022-03-14T15:17:39.587261Z"
    },
    "id": "xLnaQXLij_DG",
    "outputId": "67c4db79-8dee-485d-ab43-ac909dc770b8",
    "papermill": {
     "duration": 0.440692,
     "end_time": "2022-03-14T15:18:34.873060",
     "exception": false,
     "start_time": "2022-03-14T15:18:34.432368",
     "status": "completed"
    },
    "tags": []
   },
   "outputs": [
    {
     "data": {
      "text/plain": [
       "ID           0\n",
       "Name         0\n",
       "Sex          0\n",
       "Age          0\n",
       "Height       0\n",
       "Weight       0\n",
       "Team         0\n",
       "NOC          0\n",
       "Games        0\n",
       "Year         0\n",
       "Season       0\n",
       "City         0\n",
       "Sport        0\n",
       "Event        0\n",
       "Medal        0\n",
       "Region       0\n",
       "Notes        0\n",
       "Miss_data    0\n",
       "Bronze       0\n",
       "Gold         0\n",
       "No Medal     0\n",
       "Silver       0\n",
       "dtype: int64"
      ]
     },
     "execution_count": 64,
     "metadata": {},
     "output_type": "execute_result"
    }
   ],
   "source": [
    "df.isnull().sum() #no missing data"
   ]
  },
  {
   "cell_type": "code",
   "execution_count": 65,
   "id": "7eae1ac4",
   "metadata": {},
   "outputs": [],
   "source": [
    "#df.drop(columns=['B', 'C'])\n",
    "#df.drop([5,6], axis=0, inplace=True) , [5,6] is the index of the rows you want to delete\n",
    "#df.index[2:4] generates a range of rows from 2 to 4. The lower limit of the range is inclusive\n",
    "#and the upper limit of the range is exclusive.\n",
    "#This means that rows 2 and 3 will be deleted and row 4 will not be deleted.\n",
    "\n",
    "#df.drop(df[(df['Age'] >59) & (df['Medal'] < 1)].index, inplace=True)\n",
    "\n",
    "#https://sparkbyexamples.com/pandas/pandas-add-column-to-dataframe/#:~:text=In%20pandas%20you%20can%20add,after%20adding%20a%20new%20column.\n"
   ]
  },
  {
   "cell_type": "code",
   "execution_count": 66,
   "id": "6fd2ee64",
   "metadata": {
    "execution": {
     "iopub.execute_input": "2022-03-14T15:18:35.057981Z",
     "iopub.status.busy": "2022-03-14T15:18:35.057312Z",
     "iopub.status.idle": "2022-03-14T15:18:35.060006Z",
     "shell.execute_reply": "2022-03-14T15:18:35.060495Z",
     "shell.execute_reply.started": "2022-03-14T15:17:39.951166Z"
    },
    "id": "g7kW7qKy_SIn",
    "outputId": "e78bef28-2269-42f4-c6da-84df8a04839f",
    "papermill": {
     "duration": 0.104525,
     "end_time": "2022-03-14T15:18:35.060659",
     "exception": false,
     "start_time": "2022-03-14T15:18:34.956134",
     "status": "completed"
    },
    "tags": []
   },
   "outputs": [
    {
     "data": {
      "text/html": [
       "<div>\n",
       "<style scoped>\n",
       "    .dataframe tbody tr th:only-of-type {\n",
       "        vertical-align: middle;\n",
       "    }\n",
       "\n",
       "    .dataframe tbody tr th {\n",
       "        vertical-align: top;\n",
       "    }\n",
       "\n",
       "    .dataframe thead th {\n",
       "        text-align: right;\n",
       "    }\n",
       "</style>\n",
       "<table border=\"1\" class=\"dataframe\">\n",
       "  <thead>\n",
       "    <tr style=\"text-align: right;\">\n",
       "      <th></th>\n",
       "      <th>ID</th>\n",
       "      <th>Name</th>\n",
       "      <th>Sex</th>\n",
       "      <th>Age</th>\n",
       "      <th>Height</th>\n",
       "      <th>Weight</th>\n",
       "      <th>Team</th>\n",
       "      <th>NOC</th>\n",
       "      <th>Games</th>\n",
       "      <th>Year</th>\n",
       "      <th>...</th>\n",
       "      <th>Sport</th>\n",
       "      <th>Event</th>\n",
       "      <th>Medal</th>\n",
       "      <th>Region</th>\n",
       "      <th>Notes</th>\n",
       "      <th>Miss_data</th>\n",
       "      <th>Bronze</th>\n",
       "      <th>Gold</th>\n",
       "      <th>No Medal</th>\n",
       "      <th>Silver</th>\n",
       "    </tr>\n",
       "  </thead>\n",
       "  <tbody>\n",
       "    <tr>\n",
       "      <th>0</th>\n",
       "      <td>1</td>\n",
       "      <td>A Dijiang</td>\n",
       "      <td>M</td>\n",
       "      <td>24.0</td>\n",
       "      <td>180.000000</td>\n",
       "      <td>80.000000</td>\n",
       "      <td>China</td>\n",
       "      <td>CHN</td>\n",
       "      <td>1992 Summer</td>\n",
       "      <td>1992</td>\n",
       "      <td>...</td>\n",
       "      <td>Basketball</td>\n",
       "      <td>Basketball Men's Basketball</td>\n",
       "      <td>No Medal</td>\n",
       "      <td>China</td>\n",
       "      <td>No Notes</td>\n",
       "      <td>0</td>\n",
       "      <td>0</td>\n",
       "      <td>0</td>\n",
       "      <td>1</td>\n",
       "      <td>0</td>\n",
       "    </tr>\n",
       "    <tr>\n",
       "      <th>1</th>\n",
       "      <td>2</td>\n",
       "      <td>A Lamusi</td>\n",
       "      <td>M</td>\n",
       "      <td>23.0</td>\n",
       "      <td>170.000000</td>\n",
       "      <td>60.000000</td>\n",
       "      <td>China</td>\n",
       "      <td>CHN</td>\n",
       "      <td>2012 Summer</td>\n",
       "      <td>2012</td>\n",
       "      <td>...</td>\n",
       "      <td>Judo</td>\n",
       "      <td>Judo Men's Extra-Lightweight</td>\n",
       "      <td>No Medal</td>\n",
       "      <td>China</td>\n",
       "      <td>No Notes</td>\n",
       "      <td>0</td>\n",
       "      <td>0</td>\n",
       "      <td>0</td>\n",
       "      <td>1</td>\n",
       "      <td>0</td>\n",
       "    </tr>\n",
       "    <tr>\n",
       "      <th>2</th>\n",
       "      <td>3</td>\n",
       "      <td>Gunnar Nielsen Aaby</td>\n",
       "      <td>M</td>\n",
       "      <td>24.0</td>\n",
       "      <td>175.338953</td>\n",
       "      <td>70.701778</td>\n",
       "      <td>Denmark</td>\n",
       "      <td>DEN</td>\n",
       "      <td>1920 Summer</td>\n",
       "      <td>1920</td>\n",
       "      <td>...</td>\n",
       "      <td>Football</td>\n",
       "      <td>Football Men's Football</td>\n",
       "      <td>No Medal</td>\n",
       "      <td>Denmark</td>\n",
       "      <td>No Notes</td>\n",
       "      <td>0</td>\n",
       "      <td>0</td>\n",
       "      <td>0</td>\n",
       "      <td>1</td>\n",
       "      <td>0</td>\n",
       "    </tr>\n",
       "    <tr>\n",
       "      <th>3</th>\n",
       "      <td>4</td>\n",
       "      <td>Edgar Lindenau Aabye</td>\n",
       "      <td>M</td>\n",
       "      <td>34.0</td>\n",
       "      <td>175.338953</td>\n",
       "      <td>70.701778</td>\n",
       "      <td>Denmark/Sweden</td>\n",
       "      <td>DEN</td>\n",
       "      <td>1900 Summer</td>\n",
       "      <td>1900</td>\n",
       "      <td>...</td>\n",
       "      <td>Tug-Of-War</td>\n",
       "      <td>Tug-Of-War Men's Tug-Of-War</td>\n",
       "      <td>Gold</td>\n",
       "      <td>Denmark</td>\n",
       "      <td>No Notes</td>\n",
       "      <td>0</td>\n",
       "      <td>0</td>\n",
       "      <td>1</td>\n",
       "      <td>0</td>\n",
       "      <td>0</td>\n",
       "    </tr>\n",
       "    <tr>\n",
       "      <th>4</th>\n",
       "      <td>5</td>\n",
       "      <td>Christine Jacoba Aaftink</td>\n",
       "      <td>F</td>\n",
       "      <td>21.0</td>\n",
       "      <td>185.000000</td>\n",
       "      <td>82.000000</td>\n",
       "      <td>Netherlands</td>\n",
       "      <td>NED</td>\n",
       "      <td>1988 Winter</td>\n",
       "      <td>1988</td>\n",
       "      <td>...</td>\n",
       "      <td>Speed Skating</td>\n",
       "      <td>Speed Skating Women's 500 metres</td>\n",
       "      <td>No Medal</td>\n",
       "      <td>Netherlands</td>\n",
       "      <td>No Notes</td>\n",
       "      <td>0</td>\n",
       "      <td>0</td>\n",
       "      <td>0</td>\n",
       "      <td>1</td>\n",
       "      <td>0</td>\n",
       "    </tr>\n",
       "  </tbody>\n",
       "</table>\n",
       "<p>5 rows × 22 columns</p>\n",
       "</div>"
      ],
      "text/plain": [
       "   ID                      Name Sex   Age      Height     Weight  \\\n",
       "0   1                 A Dijiang   M  24.0  180.000000  80.000000   \n",
       "1   2                  A Lamusi   M  23.0  170.000000  60.000000   \n",
       "2   3       Gunnar Nielsen Aaby   M  24.0  175.338953  70.701778   \n",
       "3   4      Edgar Lindenau Aabye   M  34.0  175.338953  70.701778   \n",
       "4   5  Christine Jacoba Aaftink   F  21.0  185.000000  82.000000   \n",
       "\n",
       "             Team  NOC        Games  Year  ...          Sport  \\\n",
       "0           China  CHN  1992 Summer  1992  ...     Basketball   \n",
       "1           China  CHN  2012 Summer  2012  ...           Judo   \n",
       "2         Denmark  DEN  1920 Summer  1920  ...       Football   \n",
       "3  Denmark/Sweden  DEN  1900 Summer  1900  ...     Tug-Of-War   \n",
       "4     Netherlands  NED  1988 Winter  1988  ...  Speed Skating   \n",
       "\n",
       "                              Event     Medal       Region     Notes  \\\n",
       "0       Basketball Men's Basketball  No Medal        China  No Notes   \n",
       "1      Judo Men's Extra-Lightweight  No Medal        China  No Notes   \n",
       "2           Football Men's Football  No Medal      Denmark  No Notes   \n",
       "3       Tug-Of-War Men's Tug-Of-War      Gold      Denmark  No Notes   \n",
       "4  Speed Skating Women's 500 metres  No Medal  Netherlands  No Notes   \n",
       "\n",
       "  Miss_data Bronze  Gold  No Medal  Silver  \n",
       "0         0      0     0         1       0  \n",
       "1         0      0     0         1       0  \n",
       "2         0      0     0         1       0  \n",
       "3         0      0     1         0       0  \n",
       "4         0      0     0         1       0  \n",
       "\n",
       "[5 rows x 22 columns]"
      ]
     },
     "execution_count": 66,
     "metadata": {},
     "output_type": "execute_result"
    }
   ],
   "source": [
    "df.head()"
   ]
  },
  {
   "cell_type": "markdown",
   "id": "ad7f074e",
   "metadata": {
    "id": "skJthLdLj_DI",
    "papermill": {
     "duration": 0.089032,
     "end_time": "2022-03-14T15:18:35.235119",
     "exception": false,
     "start_time": "2022-03-14T15:18:35.146087",
     "status": "completed"
    },
    "tags": []
   },
   "source": [
    "<div id='Chapter6'></div>\n",
    "\n",
    "## 6.0 Analayzing Some columns"
   ]
  },
  {
   "cell_type": "code",
   "execution_count": 67,
   "id": "23d98dab",
   "metadata": {},
   "outputs": [
    {
     "data": {
      "text/html": [
       "<div>\n",
       "<style scoped>\n",
       "    .dataframe tbody tr th:only-of-type {\n",
       "        vertical-align: middle;\n",
       "    }\n",
       "\n",
       "    .dataframe tbody tr th {\n",
       "        vertical-align: top;\n",
       "    }\n",
       "\n",
       "    .dataframe thead th {\n",
       "        text-align: right;\n",
       "    }\n",
       "</style>\n",
       "<table border=\"1\" class=\"dataframe\">\n",
       "  <thead>\n",
       "    <tr style=\"text-align: right;\">\n",
       "      <th></th>\n",
       "      <th>ID</th>\n",
       "      <th>Name</th>\n",
       "      <th>Sex</th>\n",
       "      <th>Age</th>\n",
       "      <th>Height</th>\n",
       "      <th>Weight</th>\n",
       "      <th>Team</th>\n",
       "      <th>NOC</th>\n",
       "      <th>Games</th>\n",
       "      <th>Year</th>\n",
       "      <th>...</th>\n",
       "      <th>Notes</th>\n",
       "      <th>Miss_data</th>\n",
       "      <th>Bronze</th>\n",
       "      <th>Gold</th>\n",
       "      <th>No Medal</th>\n",
       "      <th>Silver</th>\n",
       "      <th>Bronze</th>\n",
       "      <th>Gold</th>\n",
       "      <th>No Medal</th>\n",
       "      <th>Silver</th>\n",
       "    </tr>\n",
       "  </thead>\n",
       "  <tbody>\n",
       "    <tr>\n",
       "      <th>0</th>\n",
       "      <td>1</td>\n",
       "      <td>A Dijiang</td>\n",
       "      <td>M</td>\n",
       "      <td>24.0</td>\n",
       "      <td>180.000000</td>\n",
       "      <td>80.000000</td>\n",
       "      <td>China</td>\n",
       "      <td>CHN</td>\n",
       "      <td>1992 Summer</td>\n",
       "      <td>1992</td>\n",
       "      <td>...</td>\n",
       "      <td>No Notes</td>\n",
       "      <td>0</td>\n",
       "      <td>0</td>\n",
       "      <td>0</td>\n",
       "      <td>1</td>\n",
       "      <td>0</td>\n",
       "      <td>0</td>\n",
       "      <td>0</td>\n",
       "      <td>1</td>\n",
       "      <td>0</td>\n",
       "    </tr>\n",
       "    <tr>\n",
       "      <th>1</th>\n",
       "      <td>2</td>\n",
       "      <td>A Lamusi</td>\n",
       "      <td>M</td>\n",
       "      <td>23.0</td>\n",
       "      <td>170.000000</td>\n",
       "      <td>60.000000</td>\n",
       "      <td>China</td>\n",
       "      <td>CHN</td>\n",
       "      <td>2012 Summer</td>\n",
       "      <td>2012</td>\n",
       "      <td>...</td>\n",
       "      <td>No Notes</td>\n",
       "      <td>0</td>\n",
       "      <td>0</td>\n",
       "      <td>0</td>\n",
       "      <td>1</td>\n",
       "      <td>0</td>\n",
       "      <td>0</td>\n",
       "      <td>0</td>\n",
       "      <td>1</td>\n",
       "      <td>0</td>\n",
       "    </tr>\n",
       "    <tr>\n",
       "      <th>2</th>\n",
       "      <td>3</td>\n",
       "      <td>Gunnar Nielsen Aaby</td>\n",
       "      <td>M</td>\n",
       "      <td>24.0</td>\n",
       "      <td>175.338953</td>\n",
       "      <td>70.701778</td>\n",
       "      <td>Denmark</td>\n",
       "      <td>DEN</td>\n",
       "      <td>1920 Summer</td>\n",
       "      <td>1920</td>\n",
       "      <td>...</td>\n",
       "      <td>No Notes</td>\n",
       "      <td>0</td>\n",
       "      <td>0</td>\n",
       "      <td>0</td>\n",
       "      <td>1</td>\n",
       "      <td>0</td>\n",
       "      <td>0</td>\n",
       "      <td>0</td>\n",
       "      <td>1</td>\n",
       "      <td>0</td>\n",
       "    </tr>\n",
       "    <tr>\n",
       "      <th>3</th>\n",
       "      <td>4</td>\n",
       "      <td>Edgar Lindenau Aabye</td>\n",
       "      <td>M</td>\n",
       "      <td>34.0</td>\n",
       "      <td>175.338953</td>\n",
       "      <td>70.701778</td>\n",
       "      <td>Denmark/Sweden</td>\n",
       "      <td>DEN</td>\n",
       "      <td>1900 Summer</td>\n",
       "      <td>1900</td>\n",
       "      <td>...</td>\n",
       "      <td>No Notes</td>\n",
       "      <td>0</td>\n",
       "      <td>0</td>\n",
       "      <td>1</td>\n",
       "      <td>0</td>\n",
       "      <td>0</td>\n",
       "      <td>0</td>\n",
       "      <td>1</td>\n",
       "      <td>0</td>\n",
       "      <td>0</td>\n",
       "    </tr>\n",
       "    <tr>\n",
       "      <th>4</th>\n",
       "      <td>5</td>\n",
       "      <td>Christine Jacoba Aaftink</td>\n",
       "      <td>F</td>\n",
       "      <td>21.0</td>\n",
       "      <td>185.000000</td>\n",
       "      <td>82.000000</td>\n",
       "      <td>Netherlands</td>\n",
       "      <td>NED</td>\n",
       "      <td>1988 Winter</td>\n",
       "      <td>1988</td>\n",
       "      <td>...</td>\n",
       "      <td>No Notes</td>\n",
       "      <td>0</td>\n",
       "      <td>0</td>\n",
       "      <td>0</td>\n",
       "      <td>1</td>\n",
       "      <td>0</td>\n",
       "      <td>0</td>\n",
       "      <td>0</td>\n",
       "      <td>1</td>\n",
       "      <td>0</td>\n",
       "    </tr>\n",
       "    <tr>\n",
       "      <th>...</th>\n",
       "      <td>...</td>\n",
       "      <td>...</td>\n",
       "      <td>...</td>\n",
       "      <td>...</td>\n",
       "      <td>...</td>\n",
       "      <td>...</td>\n",
       "      <td>...</td>\n",
       "      <td>...</td>\n",
       "      <td>...</td>\n",
       "      <td>...</td>\n",
       "      <td>...</td>\n",
       "      <td>...</td>\n",
       "      <td>...</td>\n",
       "      <td>...</td>\n",
       "      <td>...</td>\n",
       "      <td>...</td>\n",
       "      <td>...</td>\n",
       "      <td>...</td>\n",
       "      <td>...</td>\n",
       "      <td>...</td>\n",
       "      <td>...</td>\n",
       "    </tr>\n",
       "    <tr>\n",
       "      <th>271111</th>\n",
       "      <td>135569</td>\n",
       "      <td>Andrzej ya</td>\n",
       "      <td>M</td>\n",
       "      <td>29.0</td>\n",
       "      <td>179.000000</td>\n",
       "      <td>89.000000</td>\n",
       "      <td>Poland-1</td>\n",
       "      <td>POL</td>\n",
       "      <td>1976 Winter</td>\n",
       "      <td>1976</td>\n",
       "      <td>...</td>\n",
       "      <td>No Notes</td>\n",
       "      <td>0</td>\n",
       "      <td>0</td>\n",
       "      <td>0</td>\n",
       "      <td>1</td>\n",
       "      <td>0</td>\n",
       "      <td>0</td>\n",
       "      <td>0</td>\n",
       "      <td>1</td>\n",
       "      <td>0</td>\n",
       "    </tr>\n",
       "    <tr>\n",
       "      <th>271112</th>\n",
       "      <td>135570</td>\n",
       "      <td>Piotr ya</td>\n",
       "      <td>M</td>\n",
       "      <td>27.0</td>\n",
       "      <td>176.000000</td>\n",
       "      <td>59.000000</td>\n",
       "      <td>Poland</td>\n",
       "      <td>POL</td>\n",
       "      <td>2014 Winter</td>\n",
       "      <td>2014</td>\n",
       "      <td>...</td>\n",
       "      <td>No Notes</td>\n",
       "      <td>0</td>\n",
       "      <td>0</td>\n",
       "      <td>0</td>\n",
       "      <td>1</td>\n",
       "      <td>0</td>\n",
       "      <td>0</td>\n",
       "      <td>0</td>\n",
       "      <td>1</td>\n",
       "      <td>0</td>\n",
       "    </tr>\n",
       "    <tr>\n",
       "      <th>271113</th>\n",
       "      <td>135570</td>\n",
       "      <td>Piotr ya</td>\n",
       "      <td>M</td>\n",
       "      <td>27.0</td>\n",
       "      <td>176.000000</td>\n",
       "      <td>59.000000</td>\n",
       "      <td>Poland</td>\n",
       "      <td>POL</td>\n",
       "      <td>2014 Winter</td>\n",
       "      <td>2014</td>\n",
       "      <td>...</td>\n",
       "      <td>No Notes</td>\n",
       "      <td>0</td>\n",
       "      <td>0</td>\n",
       "      <td>0</td>\n",
       "      <td>1</td>\n",
       "      <td>0</td>\n",
       "      <td>0</td>\n",
       "      <td>0</td>\n",
       "      <td>1</td>\n",
       "      <td>0</td>\n",
       "    </tr>\n",
       "    <tr>\n",
       "      <th>271114</th>\n",
       "      <td>135571</td>\n",
       "      <td>Tomasz Ireneusz ya</td>\n",
       "      <td>M</td>\n",
       "      <td>30.0</td>\n",
       "      <td>185.000000</td>\n",
       "      <td>96.000000</td>\n",
       "      <td>Poland</td>\n",
       "      <td>POL</td>\n",
       "      <td>1998 Winter</td>\n",
       "      <td>1998</td>\n",
       "      <td>...</td>\n",
       "      <td>No Notes</td>\n",
       "      <td>0</td>\n",
       "      <td>0</td>\n",
       "      <td>0</td>\n",
       "      <td>1</td>\n",
       "      <td>0</td>\n",
       "      <td>0</td>\n",
       "      <td>0</td>\n",
       "      <td>1</td>\n",
       "      <td>0</td>\n",
       "    </tr>\n",
       "    <tr>\n",
       "      <th>271115</th>\n",
       "      <td>135571</td>\n",
       "      <td>Tomasz Ireneusz ya</td>\n",
       "      <td>M</td>\n",
       "      <td>34.0</td>\n",
       "      <td>185.000000</td>\n",
       "      <td>96.000000</td>\n",
       "      <td>Poland</td>\n",
       "      <td>POL</td>\n",
       "      <td>2002 Winter</td>\n",
       "      <td>2002</td>\n",
       "      <td>...</td>\n",
       "      <td>No Notes</td>\n",
       "      <td>0</td>\n",
       "      <td>0</td>\n",
       "      <td>0</td>\n",
       "      <td>1</td>\n",
       "      <td>0</td>\n",
       "      <td>0</td>\n",
       "      <td>0</td>\n",
       "      <td>1</td>\n",
       "      <td>0</td>\n",
       "    </tr>\n",
       "  </tbody>\n",
       "</table>\n",
       "<p>269731 rows × 26 columns</p>\n",
       "</div>"
      ],
      "text/plain": [
       "            ID                      Name Sex   Age      Height     Weight  \\\n",
       "0            1                 A Dijiang   M  24.0  180.000000  80.000000   \n",
       "1            2                  A Lamusi   M  23.0  170.000000  60.000000   \n",
       "2            3       Gunnar Nielsen Aaby   M  24.0  175.338953  70.701778   \n",
       "3            4      Edgar Lindenau Aabye   M  34.0  175.338953  70.701778   \n",
       "4            5  Christine Jacoba Aaftink   F  21.0  185.000000  82.000000   \n",
       "...        ...                       ...  ..   ...         ...        ...   \n",
       "271111  135569                Andrzej ya   M  29.0  179.000000  89.000000   \n",
       "271112  135570                  Piotr ya   M  27.0  176.000000  59.000000   \n",
       "271113  135570                  Piotr ya   M  27.0  176.000000  59.000000   \n",
       "271114  135571        Tomasz Ireneusz ya   M  30.0  185.000000  96.000000   \n",
       "271115  135571        Tomasz Ireneusz ya   M  34.0  185.000000  96.000000   \n",
       "\n",
       "                  Team  NOC        Games  Year  ...     Notes Miss_data  \\\n",
       "0                China  CHN  1992 Summer  1992  ...  No Notes         0   \n",
       "1                China  CHN  2012 Summer  2012  ...  No Notes         0   \n",
       "2              Denmark  DEN  1920 Summer  1920  ...  No Notes         0   \n",
       "3       Denmark/Sweden  DEN  1900 Summer  1900  ...  No Notes         0   \n",
       "4          Netherlands  NED  1988 Winter  1988  ...  No Notes         0   \n",
       "...                ...  ...          ...   ...  ...       ...       ...   \n",
       "271111        Poland-1  POL  1976 Winter  1976  ...  No Notes         0   \n",
       "271112          Poland  POL  2014 Winter  2014  ...  No Notes         0   \n",
       "271113          Poland  POL  2014 Winter  2014  ...  No Notes         0   \n",
       "271114          Poland  POL  1998 Winter  1998  ...  No Notes         0   \n",
       "271115          Poland  POL  2002 Winter  2002  ...  No Notes         0   \n",
       "\n",
       "       Bronze  Gold  No Medal  Silver Bronze  Gold  No Medal  Silver  \n",
       "0           0     0         1       0      0     0         1       0  \n",
       "1           0     0         1       0      0     0         1       0  \n",
       "2           0     0         1       0      0     0         1       0  \n",
       "3           0     1         0       0      0     1         0       0  \n",
       "4           0     0         1       0      0     0         1       0  \n",
       "...       ...   ...       ...     ...    ...   ...       ...     ...  \n",
       "271111      0     0         1       0      0     0         1       0  \n",
       "271112      0     0         1       0      0     0         1       0  \n",
       "271113      0     0         1       0      0     0         1       0  \n",
       "271114      0     0         1       0      0     0         1       0  \n",
       "271115      0     0         1       0      0     0         1       0  \n",
       "\n",
       "[269731 rows x 26 columns]"
      ]
     },
     "execution_count": 67,
     "metadata": {},
     "output_type": "execute_result"
    }
   ],
   "source": [
    "df = pd.concat([df,pd.get_dummies(df['Medal'])],axis = 1)\n",
    "df\n"
   ]
  },
  {
   "cell_type": "markdown",
   "id": "2d9a35d2",
   "metadata": {
    "id": "wqRYSH_zARWc",
    "papermill": {
     "duration": 0.083298,
     "end_time": "2022-03-14T15:18:35.400115",
     "exception": false,
     "start_time": "2022-03-14T15:18:35.316817",
     "status": "completed"
    },
    "tags": []
   },
   "source": [
    "<div id='6.1'></div>\n",
    "\n",
    "### 6.1 Number of althetes in Olymics"
   ]
  },
  {
   "cell_type": "code",
   "execution_count": 68,
   "id": "fa47aee0",
   "metadata": {
    "execution": {
     "iopub.execute_input": "2022-03-14T15:18:35.590698Z",
     "iopub.status.busy": "2022-03-14T15:18:35.589984Z",
     "iopub.status.idle": "2022-03-14T15:18:35.596283Z",
     "shell.execute_reply": "2022-03-14T15:18:35.595703Z",
     "shell.execute_reply.started": "2022-03-14T15:17:39.974912Z"
    },
    "id": "3rSghiYFpxcC",
    "outputId": "0c99578f-c392-48f2-e22f-98b8947d30df",
    "papermill": {
     "duration": 0.110274,
     "end_time": "2022-03-14T15:18:35.596419",
     "exception": false,
     "start_time": "2022-03-14T15:18:35.486145",
     "status": "completed"
    },
    "tags": []
   },
   "outputs": [
    {
     "name": "stdout",
     "output_type": "stream",
     "text": [
      "Total number of althetes in olymics: 269731\n"
     ]
    }
   ],
   "source": [
    "althetes_count = len(df.Name)\n",
    "print('Total number of althetes in olymics:', althetes_count)"
   ]
  },
  {
   "cell_type": "markdown",
   "id": "e283b12a",
   "metadata": {
    "id": "G2mkB9Qkj_DK",
    "papermill": {
     "duration": 0.081612,
     "end_time": "2022-03-14T15:18:35.762186",
     "exception": false,
     "start_time": "2022-03-14T15:18:35.680574",
     "status": "completed"
    },
    "tags": []
   },
   "source": [
    "<div id='6.2'></div>\n",
    "\n",
    "### 6.2 Number of males and females\n",
    "\n"
   ]
  },
  {
   "cell_type": "code",
   "execution_count": 69,
   "id": "0d78ca64",
   "metadata": {
    "execution": {
     "iopub.execute_input": "2022-03-14T15:18:35.930605Z",
     "iopub.status.busy": "2022-03-14T15:18:35.929582Z",
     "iopub.status.idle": "2022-03-14T15:18:36.051054Z",
     "shell.execute_reply": "2022-03-14T15:18:36.050448Z",
     "shell.execute_reply.started": "2022-03-14T15:17:39.988123Z"
    },
    "id": "ZKG72Qh_j_DL",
    "outputId": "73d66456-8530-49c1-80df-175aa280a1dd",
    "papermill": {
     "duration": 0.206616,
     "end_time": "2022-03-14T15:18:36.051222",
     "exception": false,
     "start_time": "2022-03-14T15:18:35.844606",
     "status": "completed"
    },
    "tags": []
   },
   "outputs": [
    {
     "data": {
      "image/png": "[encoded data removed]",
      "text/plain": [
       "<Figure size 864x432 with 1 Axes>"
      ]
     },
     "metadata": {},
     "output_type": "display_data"
    }
   ],
   "source": [
    "sex_counts = df['Sex'].value_counts()\n",
    "plt.figure(figsize=(12,6))\n",
    "plt.title('Sex Distribution')\n",
    "plt.pie(sex_counts, labels=sex_counts.index, autopct='%1.1f%%')\n",
    "plt.show()"
   ]
  },
  {
   "cell_type": "markdown",
   "id": "a5edf9e3",
   "metadata": {
    "id": "4I8rbjGVBY_i",
    "papermill": {
     "duration": 0.083046,
     "end_time": "2022-03-14T15:18:36.219464",
     "exception": false,
     "start_time": "2022-03-14T15:18:36.136418",
     "status": "completed"
    },
    "tags": []
   },
   "source": [
    "<div id='6.3'></div>\n",
    "\n",
    "### 6.3 Medal and Number of Medals in Olymics\n",
    "\n",
    "\n",
    "\n"
   ]
  },
  {
   "cell_type": "code",
   "execution_count": 70,
   "id": "e9c451bf",
   "metadata": {
    "execution": {
     "iopub.execute_input": "2022-03-14T15:18:36.388798Z",
     "iopub.status.busy": "2022-03-14T15:18:36.388118Z",
     "iopub.status.idle": "2022-03-14T15:18:36.425028Z",
     "shell.execute_reply": "2022-03-14T15:18:36.425581Z",
     "shell.execute_reply.started": "2022-03-14T15:17:40.148828Z"
    },
    "id": "LT3yasvrj_DJ",
    "papermill": {
     "duration": 0.123741,
     "end_time": "2022-03-14T15:18:36.425768",
     "exception": false,
     "start_time": "2022-03-14T15:18:36.302027",
     "status": "completed"
    },
    "tags": []
   },
   "outputs": [],
   "source": [
    "medal_count = df['Medal'].value_counts()"
   ]
  },
  {
   "cell_type": "code",
   "execution_count": 71,
   "id": "f30b3c65",
   "metadata": {
    "execution": {
     "iopub.execute_input": "2022-03-14T15:18:36.596207Z",
     "iopub.status.busy": "2022-03-14T15:18:36.595556Z",
     "iopub.status.idle": "2022-03-14T15:18:36.745693Z",
     "shell.execute_reply": "2022-03-14T15:18:36.746285Z",
     "shell.execute_reply.started": "2022-03-14T15:17:40.212785Z"
    },
    "id": "ptb3zVvUpUoL",
    "outputId": "27252046-3feb-43e5-a67a-00484d4d9acc",
    "papermill": {
     "duration": 0.237818,
     "end_time": "2022-03-14T15:18:36.746462",
     "exception": false,
     "start_time": "2022-03-14T15:18:36.508644",
     "status": "completed"
    },
    "tags": []
   },
   "outputs": [
    {
     "data": {
      "image/png": "[encoded data removed]",
      "text/plain": [
       "<Figure size 1080x504 with 1 Axes>"
      ]
     },
     "metadata": {
      "needs_background": "light"
     },
     "output_type": "display_data"
    }
   ],
   "source": [
    "plt.figure(figsize=(15,7))\n",
    "medal_count.plot(kind='bar');"
   ]
  },
  {
   "cell_type": "markdown",
   "id": "a7bd7c19",
   "metadata": {
    "id": "vN42WO-pj_DP",
    "papermill": {
     "duration": 0.085023,
     "end_time": "2022-03-14T15:18:36.915069",
     "exception": false,
     "start_time": "2022-03-14T15:18:36.830046",
     "status": "completed"
    },
    "tags": []
   },
   "source": [
    "<div id='6.4'></div>\n",
    "\n",
    "### 6.4 The cities and their number participating in the Olympics"
   ]
  },
  {
   "cell_type": "code",
   "execution_count": 72,
   "id": "d61b5755",
   "metadata": {
    "execution": {
     "iopub.execute_input": "2022-03-14T15:18:37.090435Z",
     "iopub.status.busy": "2022-03-14T15:18:37.089731Z",
     "iopub.status.idle": "2022-03-14T15:18:37.140016Z",
     "shell.execute_reply": "2022-03-14T15:18:37.139490Z",
     "shell.execute_reply.started": "2022-03-14T15:17:40.409328Z"
    },
    "id": "qUf5b-jyj_DQ",
    "outputId": "c3bf7d56-aba6-4ed2-a73e-a38a76caa049",
    "papermill": {
     "duration": 0.14,
     "end_time": "2022-03-14T15:18:37.140186",
     "exception": false,
     "start_time": "2022-03-14T15:18:37.000186",
     "status": "completed"
    },
    "tags": []
   },
   "outputs": [
    {
     "data": {
      "text/plain": [
       "(42,\n",
       " array(['Barcelona', 'London', 'Antwerpen', 'Paris', 'Calgary',\n",
       "        'Albertville', 'Lillehammer', 'Los Angeles', 'Salt Lake City',\n",
       "        'Helsinki', 'Lake Placid', 'Sydney', 'Atlanta', 'Stockholm',\n",
       "        'Sochi', 'Nagano', 'Torino', 'Beijing', 'Rio de Janeiro', 'Athina',\n",
       "        'Squaw Valley', 'Innsbruck', 'Sarajevo', 'Mexico City', 'Munich',\n",
       "        'Seoul', 'Berlin', 'Oslo', \"Cortina d'Ampezzo\", 'Melbourne',\n",
       "        'Roma', 'Amsterdam', 'Montreal', 'Moskva', 'Tokyo', 'Vancouver',\n",
       "        'Grenoble', 'Sapporo', 'Chamonix', 'St. Louis', 'Sankt Moritz',\n",
       "        'Garmisch-Partenkirchen'], dtype=object))"
      ]
     },
     "execution_count": 72,
     "metadata": {},
     "output_type": "execute_result"
    }
   ],
   "source": [
    "city_count, city_arr = df['City'].nunique(), df['City'].unique()\n",
    "city_count, city_arr"
   ]
  },
  {
   "cell_type": "markdown",
   "id": "446b4ddd",
   "metadata": {
    "id": "MRufDbB5SXh2",
    "papermill": {
     "duration": 0.085889,
     "end_time": "2022-03-14T15:18:37.310795",
     "exception": false,
     "start_time": "2022-03-14T15:18:37.224906",
     "status": "completed"
    },
    "tags": []
   },
   "source": [
    "<div id='6.5'></div>\n",
    "\n",
    "### 6.5 Seasons in the Olympics"
   ]
  },
  {
   "cell_type": "code",
   "execution_count": 73,
   "id": "af408d5c",
   "metadata": {
    "execution": {
     "iopub.execute_input": "2022-03-14T15:18:37.489255Z",
     "iopub.status.busy": "2022-03-14T15:18:37.488588Z",
     "iopub.status.idle": "2022-03-14T15:18:37.507043Z",
     "shell.execute_reply": "2022-03-14T15:18:37.507550Z",
     "shell.execute_reply.started": "2022-03-14T15:17:40.460121Z"
    },
    "id": "Tm0Jm4gvIe0A",
    "outputId": "4f512820-a9ea-4933-c9fd-1da4dcc3dcdc",
    "papermill": {
     "duration": 0.112285,
     "end_time": "2022-03-14T15:18:37.507720",
     "exception": false,
     "start_time": "2022-03-14T15:18:37.395435",
     "status": "completed"
    },
    "tags": []
   },
   "outputs": [
    {
     "data": {
      "text/plain": [
       "array(['Summer', 'Winter'], dtype=object)"
      ]
     },
     "execution_count": 73,
     "metadata": {},
     "output_type": "execute_result"
    }
   ],
   "source": [
    "df['Season'].unique()"
   ]
  },
  {
   "cell_type": "markdown",
   "id": "87f1c031",
   "metadata": {
    "id": "UaSu2YhpF8WG",
    "papermill": {
     "duration": 0.084947,
     "end_time": "2022-03-14T15:18:37.677563",
     "exception": false,
     "start_time": "2022-03-14T15:18:37.592616",
     "status": "completed"
    },
    "tags": []
   },
   "source": [
    "<div id='6.6'></div>\n",
    "\n",
    "### 6.6 Athletes Age Distribution in  Olympics"
   ]
  },
  {
   "cell_type": "code",
   "execution_count": 74,
   "id": "dc3e6df3",
   "metadata": {
    "execution": {
     "iopub.execute_input": "2022-03-14T15:18:37.854023Z",
     "iopub.status.busy": "2022-03-14T15:18:37.853364Z",
     "iopub.status.idle": "2022-03-14T15:18:38.154585Z",
     "shell.execute_reply": "2022-03-14T15:18:38.155091Z",
     "shell.execute_reply.started": "2022-03-14T15:17:40.488403Z"
    },
    "id": "ivd4pmYHvO6H",
    "outputId": "7a4c7c7b-5bb0-4f50-9788-14b09590c286",
    "papermill": {
     "duration": 0.392627,
     "end_time": "2022-03-14T15:18:38.155294",
     "exception": false,
     "start_time": "2022-03-14T15:18:37.762667",
     "status": "completed"
    },
    "tags": []
   },
   "outputs": [
    {
     "data": {
      "text/plain": [
       "(array([1.4000e+01, 2.2600e+02, 3.0370e+03, 9.2270e+03, 1.9795e+04,\n",
       "        3.4417e+04, 4.2667e+04, 5.0714e+04, 3.3662e+04, 2.5459e+04,\n",
       "        1.7024e+04, 1.1005e+04, 7.0700e+03, 4.4080e+03, 2.9530e+03,\n",
       "        2.1080e+03, 1.5770e+03, 1.1920e+03, 7.8100e+02, 6.8600e+02,\n",
       "        4.1400e+02, 3.7200e+02, 2.2300e+02, 1.7400e+02, 1.3200e+02,\n",
       "        1.1500e+02, 8.1000e+01, 5.4000e+01, 4.4000e+01, 2.8000e+01,\n",
       "        3.1000e+01, 2.2000e+01, 7.0000e+00, 5.0000e+00]),\n",
       " array([10, 12, 14, 16, 18, 20, 22, 24, 26, 28, 30, 32, 34, 36, 38, 40, 42,\n",
       "        44, 46, 48, 50, 52, 54, 56, 58, 60, 62, 64, 66, 68, 70, 72, 74, 76,\n",
       "        78]),\n",
       " <a list of 34 Patch objects>)"
      ]
     },
     "execution_count": 74,
     "metadata": {},
     "output_type": "execute_result"
    },
    {
     "data": {
      "image/png": "[encoded data removed]",
      "text/plain": [
       "<Figure size 864x432 with 1 Axes>"
      ]
     },
     "metadata": {
      "needs_background": "light"
     },
     "output_type": "display_data"
    }
   ],
   "source": [
    "plt.figure(figsize=(12,6))\n",
    "plt.title('Athletes Age Distribution')\n",
    "plt.xlabel('Age')\n",
    "plt.ylabel('Number')\n",
    "plt.hist(data=df, x='Age', bins=np.arange(10,80,2))"
   ]
  },
  {
   "cell_type": "markdown",
   "id": "aaf38f36",
   "metadata": {
    "id": "XmW4VG5AStms",
    "papermill": {
     "duration": 0.085907,
     "end_time": "2022-03-14T15:18:38.326930",
     "exception": false,
     "start_time": "2022-03-14T15:18:38.241023",
     "status": "completed"
    },
    "tags": []
   },
   "source": [
    "<div id='6.7'></div>\n",
    "\n",
    "### 6.7 Athletes Height Distribution in  Olympics"
   ]
  },
  {
   "cell_type": "code",
   "execution_count": 75,
   "id": "f7b0e064",
   "metadata": {
    "execution": {
     "iopub.execute_input": "2022-03-14T15:18:38.520615Z",
     "iopub.status.busy": "2022-03-14T15:18:38.517420Z",
     "iopub.status.idle": "2022-03-14T15:18:38.858275Z",
     "shell.execute_reply": "2022-03-14T15:18:38.857615Z",
     "shell.execute_reply.started": "2022-03-14T15:17:40.864181Z"
    },
    "id": "rIImKl0NOYZM",
    "outputId": "5f8ff7d0-07ab-4200-c061-c80b21f3edeb",
    "papermill": {
     "duration": 0.444417,
     "end_time": "2022-03-14T15:18:38.858417",
     "exception": false,
     "start_time": "2022-03-14T15:18:38.414000",
     "status": "completed"
    },
    "tags": []
   },
   "outputs": [
    {
     "data": {
      "image/png": "[encoded data removed]",
      "text/plain": [
       "<Figure size 720x360 with 1 Axes>"
      ]
     },
     "metadata": {
      "needs_background": "light"
     },
     "output_type": "display_data"
    }
   ],
   "source": [
    "plt.figure(figsize = (10,5))\n",
    "plt.hist(df['Height'], bins = 85)\n",
    "plt.xlabel('Height')\n",
    "plt.ylabel(\"Frequency\")\n",
    "plt.title(\"Athletes Height Distribution\")\n",
    "plt.show()"
   ]
  },
  {
   "cell_type": "markdown",
   "id": "bda735cc",
   "metadata": {
    "id": "DLRaya8pTRUS",
    "papermill": {
     "duration": 0.087287,
     "end_time": "2022-03-14T15:18:39.033145",
     "exception": false,
     "start_time": "2022-03-14T15:18:38.945858",
     "status": "completed"
    },
    "tags": []
   },
   "source": [
    "<div id='6.8'></div>\n",
    "\n",
    "### 6.8 Athletes Weight Distribution in  Olympics"
   ]
  },
  {
   "cell_type": "code",
   "execution_count": 76,
   "id": "e64acf19",
   "metadata": {
    "execution": {
     "iopub.execute_input": "2022-03-14T15:18:39.229752Z",
     "iopub.status.busy": "2022-03-14T15:18:39.223172Z",
     "iopub.status.idle": "2022-03-14T15:18:39.563049Z",
     "shell.execute_reply": "2022-03-14T15:18:39.563745Z",
     "shell.execute_reply.started": "2022-03-14T15:17:41.213344Z"
    },
    "id": "05ythE8ePg6x",
    "outputId": "c9cdaa7e-ad42-4d56-ad41-91529b3055a5",
    "papermill": {
     "duration": 0.443114,
     "end_time": "2022-03-14T15:18:39.563932",
     "exception": false,
     "start_time": "2022-03-14T15:18:39.120818",
     "status": "completed"
    },
    "tags": []
   },
   "outputs": [
    {
     "data": {
      "image/png": "[encoded data removed]",
      "text/plain": [
       "<Figure size 720x360 with 1 Axes>"
      ]
     },
     "metadata": {
      "needs_background": "light"
     },
     "output_type": "display_data"
    }
   ],
   "source": [
    "plt.figure(figsize = (10,5))\n",
    "plt.hist(df['Weight'], bins = 85)\n",
    "plt.xlabel('Weight')\n",
    "plt.ylabel(\"Frequency\")\n",
    "plt.title(\"Athletes Weight Distribution\")\n",
    "plt.show()"
   ]
  },
  {
   "cell_type": "markdown",
   "id": "4e671fa8",
   "metadata": {
    "id": "CPEFz3EUTa8d",
    "papermill": {
     "duration": 0.087419,
     "end_time": "2022-03-14T15:18:39.760909",
     "exception": false,
     "start_time": "2022-03-14T15:18:39.673490",
     "status": "completed"
    },
    "tags": []
   },
   "source": [
    "<div id='6.9'></div>\n",
    "\n",
    "### 6.9 Sports in  Olympics"
   ]
  },
  {
   "cell_type": "code",
   "execution_count": 77,
   "id": "2d515957",
   "metadata": {
    "execution": {
     "iopub.execute_input": "2022-03-14T15:18:39.945369Z",
     "iopub.status.busy": "2022-03-14T15:18:39.944700Z",
     "iopub.status.idle": "2022-03-14T15:18:39.966376Z",
     "shell.execute_reply": "2022-03-14T15:18:39.966865Z",
     "shell.execute_reply.started": "2022-03-14T15:17:41.573161Z"
    },
    "id": "_YeSwWqhI4-n",
    "outputId": "11f92037-982b-4d85-82d7-eeb9707a5e49",
    "papermill": {
     "duration": 0.118357,
     "end_time": "2022-03-14T15:18:39.967035",
     "exception": false,
     "start_time": "2022-03-14T15:18:39.848678",
     "status": "completed"
    },
    "tags": []
   },
   "outputs": [
    {
     "data": {
      "text/plain": [
       "array(['Basketball', 'Judo', 'Football', 'Tug-Of-War', 'Speed Skating',\n",
       "       'Cross Country Skiing', 'Athletics', 'Ice Hockey', 'Swimming',\n",
       "       'Badminton', 'Sailing', 'Biathlon', 'Gymnastics',\n",
       "       'Art Competitions', 'Alpine Skiing', 'Handball', 'Weightlifting',\n",
       "       'Wrestling', 'Luge', 'Water Polo', 'Hockey', 'Rowing', 'Bobsleigh',\n",
       "       'Fencing', 'Equestrianism', 'Shooting', 'Boxing', 'Taekwondo',\n",
       "       'Cycling', 'Diving', 'Canoeing', 'Tennis', 'Modern Pentathlon',\n",
       "       'Figure Skating', 'Golf', 'Softball', 'Archery', 'Volleyball',\n",
       "       'Synchronized Swimming', 'Table Tennis', 'Nordic Combined',\n",
       "       'Baseball', 'Rhythmic Gymnastics', 'Freestyle Skiing',\n",
       "       'Rugby Sevens', 'Trampolining', 'Beach Volleyball', 'Triathlon',\n",
       "       'Ski Jumping', 'Curling', 'Snowboarding', 'Rugby',\n",
       "       'Short Track Speed Skating', 'Skeleton', 'Lacrosse', 'Polo',\n",
       "       'Cricket', 'Racquets', 'Motorboating', 'Military Ski Patrol',\n",
       "       'Croquet', 'Jeu De Paume', 'Roque', 'Alpinism', 'Basque Pelota',\n",
       "       'Aeronautics'], dtype=object)"
      ]
     },
     "execution_count": 77,
     "metadata": {},
     "output_type": "execute_result"
    }
   ],
   "source": [
    "df['Sport'].unique()"
   ]
  },
  {
   "cell_type": "markdown",
   "id": "cebcd891",
   "metadata": {
    "id": "1X1RQyTLTn6t",
    "papermill": {
     "duration": 0.088814,
     "end_time": "2022-03-14T15:18:40.146258",
     "exception": false,
     "start_time": "2022-03-14T15:18:40.057444",
     "status": "completed"
    },
    "tags": []
   },
   "source": [
    "<div id='6.10'></div>\n",
    "\n",
    "### 6.10 NOC that participated in Olympics"
   ]
  },
  {
   "cell_type": "code",
   "execution_count": 78,
   "id": "10d13a02",
   "metadata": {
    "execution": {
     "iopub.execute_input": "2022-03-14T15:18:40.333416Z",
     "iopub.status.busy": "2022-03-14T15:18:40.332655Z",
     "iopub.status.idle": "2022-03-14T15:18:40.351116Z",
     "shell.execute_reply": "2022-03-14T15:18:40.350483Z",
     "shell.execute_reply.started": "2022-03-14T15:17:44.849173Z"
    },
    "id": "cI3z1wCtImXn",
    "outputId": "86d582bc-72d7-497e-e862-12d8cc6d739f",
    "papermill": {
     "duration": 0.116226,
     "end_time": "2022-03-14T15:18:40.351268",
     "exception": false,
     "start_time": "2022-03-14T15:18:40.235042",
     "status": "completed"
    },
    "tags": []
   },
   "outputs": [
    {
     "data": {
      "text/plain": [
       "230"
      ]
     },
     "execution_count": 78,
     "metadata": {},
     "output_type": "execute_result"
    }
   ],
   "source": [
    "df['NOC'].nunique()"
   ]
  },
  {
   "cell_type": "markdown",
   "id": "bc7959a2",
   "metadata": {
    "id": "x1jRiv6HT1lf",
    "papermill": {
     "duration": 0.089161,
     "end_time": "2022-03-14T15:18:40.529002",
     "exception": false,
     "start_time": "2022-03-14T15:18:40.439841",
     "status": "completed"
    },
    "tags": []
   },
   "source": [
    "<div id='6.11'></div>\n",
    "\n",
    "### 6.11 Regions that participated in Olympics"
   ]
  },
  {
   "cell_type": "code",
   "execution_count": 79,
   "id": "4b3f9657",
   "metadata": {
    "execution": {
     "iopub.execute_input": "2022-03-14T15:18:40.713112Z",
     "iopub.status.busy": "2022-03-14T15:18:40.712431Z",
     "iopub.status.idle": "2022-03-14T15:18:40.736843Z",
     "shell.execute_reply": "2022-03-14T15:18:40.737350Z",
     "shell.execute_reply.started": "2022-03-14T15:17:44.879467Z"
    },
    "id": "g_yIDJTLJExZ",
    "outputId": "8d933ba0-4c1b-4e7e-e6ee-a86bb03cabf7",
    "papermill": {
     "duration": 0.118231,
     "end_time": "2022-03-14T15:18:40.737516",
     "exception": false,
     "start_time": "2022-03-14T15:18:40.619285",
     "status": "completed"
    },
    "tags": []
   },
   "outputs": [
    {
     "data": {
      "text/plain": [
       "array(['China', 'Denmark', 'Netherlands', 'USA', 'Finland', 'Norway',\n",
       "       'Romania', 'Estonia', 'France', 'Morocco', 'Spain', 'Egypt',\n",
       "       'Iran', 'Bulgaria', 'Italy', 'Chad', 'Azerbaijan', 'Sudan',\n",
       "       'Russia', 'Argentina', 'Cuba', 'Belarus', 'Greece', 'Cameroon',\n",
       "       'Turkey', 'Chile', 'Mexico', 'Nicaragua', 'Hungary', 'Nigeria',\n",
       "       'Algeria', 'Kuwait', 'Bahrain', 'Pakistan', 'Iraq', 'Syria',\n",
       "       'Lebanon', 'Qatar', 'Malaysia', 'Germany', 'Canada', 'Ireland',\n",
       "       'Australia', 'South Africa', 'Eritrea', 'Tanzania', 'Jordan',\n",
       "       'Tunisia', 'Libya', 'Belgium', 'Djibouti', 'Palestine', 'Comoros',\n",
       "       'Kazakhstan', 'Brunei', 'India', 'Saudi Arabia', 'Maldives',\n",
       "       'Ethiopia', 'United Arab Emirates', 'Yemen', 'Indonesia',\n",
       "       'Philippines', 'Singapore', 'Uzbekistan', 'Kyrgyzstan',\n",
       "       'Tajikistan', 'Japan', 'Republic of Congo', 'Switzerland',\n",
       "       'Brazil', 'Monaco', 'Israel', 'Uruguay', 'Sweden',\n",
       "       'Virgin Islands, US', 'Sri Lanka', 'Armenia', 'Ivory Coast',\n",
       "       'Kenya', 'Benin', 'Ukraine', 'UK', 'Ghana', 'Somalia', 'Latvia',\n",
       "       'Niger', 'Mali', 'Afghanistan', 'Poland', 'Costa Rica', 'Panama',\n",
       "       'Georgia', 'Slovenia', 'Croatia', 'Guyana', 'New Zealand',\n",
       "       'Portugal', 'Paraguay', 'Angola', 'Venezuela', 'Colombia',\n",
       "       'Bangladesh', 'Peru', 'El Salvador', 'Puerto Rico', 'Uganda',\n",
       "       'Honduras', 'Ecuador', 'Turkmenistan', 'Mauritius', 'Seychelles',\n",
       "       'Czech Republic', 'Luxembourg', 'Mauritania', 'Saint Kitts',\n",
       "       'Trinidad', 'Dominican Republic', 'Saint Vincent', 'Jamaica',\n",
       "       'Liberia', 'Suriname', 'Nepal', 'Mongolia', 'Austria', 'Palau',\n",
       "       'Lithuania', 'Togo', 'Namibia', 'Curacao', 'Iceland',\n",
       "       'American Samoa', 'Samoa', 'Rwanda', 'Dominica', 'Haiti', 'Malta',\n",
       "       'Cyprus', 'Guinea', 'Belize', 'South Korea', 'Thailand', 'Bermuda',\n",
       "       'Serbia', 'Sierra Leone', 'Papua New Guinea',\n",
       "       'Individual Olympic Athletes', 'Oman', 'Fiji', 'Vanuatu',\n",
       "       'Moldova', 'Bahamas', 'Guatemala', 'Virgin Islands, British',\n",
       "       'Mozambique', 'Central African Republic', 'Madagascar',\n",
       "       'Bosnia and Herzegovina', 'Guam', 'Cayman Islands', 'Slovakia',\n",
       "       'Barbados', 'Guinea-Bissau', 'Timor-Leste',\n",
       "       'Democratic Republic of the Congo', 'Gabon', 'San Marino', 'Laos',\n",
       "       'Botswana', 'Refugee Olympic Athletes', 'Cambodia', 'North Korea',\n",
       "       'Solomon Islands', 'Senegal', 'Cape Verde', 'Equatorial Guinea',\n",
       "       'Boliva', 'Andorra', 'Antigua', 'Zimbabwe', 'Grenada',\n",
       "       'Saint Lucia', 'Micronesia', 'Myanmar', 'Malawi', 'Zambia',\n",
       "       'Taiwan', 'Sao Tome and Principe', 'Macedonia', 'Tonga',\n",
       "       'Liechtenstein', 'Montenegro', 'Gambia', 'Cook Islands', 'Albania',\n",
       "       'Swaziland', 'Burkina Faso', 'Burundi', 'Aruba', 'Nauru',\n",
       "       'Vietnam', 'Bhutan', 'June Climene', 'Marshall Islands',\n",
       "       'Kiribati', 'Unknown', 'Tuvalu', 'Kosovo', 'Rika II',\n",
       "       'South Sudan', 'Lesotho', 'Singapore-2', 'Singapore-1'],\n",
       "      dtype=object)"
      ]
     },
     "execution_count": 79,
     "metadata": {},
     "output_type": "execute_result"
    }
   ],
   "source": [
    "df['Region'].unique()"
   ]
  },
  {
   "cell_type": "markdown",
   "id": "5c7ec241",
   "metadata": {
    "id": "_Tcr11vbT9Qy",
    "papermill": {
     "duration": 0.088661,
     "end_time": "2022-03-14T15:18:40.915454",
     "exception": false,
     "start_time": "2022-03-14T15:18:40.826793",
     "status": "completed"
    },
    "tags": []
   },
   "source": [
    "<div id='6.12'></div>\n",
    "\n",
    "### 6.12 Years for held Olympics"
   ]
  },
  {
   "cell_type": "code",
   "execution_count": 80,
   "id": "67a001e5",
   "metadata": {
    "execution": {
     "iopub.execute_input": "2022-03-14T15:18:41.100523Z",
     "iopub.status.busy": "2022-03-14T15:18:41.099879Z",
     "iopub.status.idle": "2022-03-14T15:18:41.107037Z",
     "shell.execute_reply": "2022-03-14T15:18:41.107638Z",
     "shell.execute_reply.started": "2022-03-14T15:17:44.909240Z"
    },
    "id": "Bfnhl0JlLWMC",
    "outputId": "972dcb7a-95ce-45ed-ed8c-18b8a7a1af14",
    "papermill": {
     "duration": 0.101,
     "end_time": "2022-03-14T15:18:41.107811",
     "exception": false,
     "start_time": "2022-03-14T15:18:41.006811",
     "status": "completed"
    },
    "tags": []
   },
   "outputs": [
    {
     "data": {
      "text/plain": [
       "array([1896, 1900, 1904, 1906, 1908, 1912, 1920, 1924, 1928, 1932, 1936,\n",
       "       1948, 1952, 1956, 1960, 1964, 1968, 1972, 1976, 1980, 1984, 1988,\n",
       "       1992, 1994, 1996, 1998, 2000, 2002, 2004, 2006, 2008, 2010, 2012,\n",
       "       2014, 2016], dtype=int64)"
      ]
     },
     "execution_count": 80,
     "metadata": {},
     "output_type": "execute_result"
    }
   ],
   "source": [
    "unique_years = df['Year'].unique()\n",
    "unique_years = np.sort(unique_years)\n",
    "unique_years"
   ]
  },
  {
   "cell_type": "markdown",
   "id": "d4b4a94f",
   "metadata": {
    "id": "okg6hKBmWnIm",
    "papermill": {
     "duration": 0.090139,
     "end_time": "2022-03-14T15:18:41.730801",
     "exception": false,
     "start_time": "2022-03-14T15:18:41.640662",
     "status": "completed"
    },
    "tags": []
   },
   "source": [
    "<div id='7.0'></div>\n",
    "\n",
    "## 7.0 Deeper Analysis"
   ]
  },
  {
   "cell_type": "markdown",
   "id": "e5850cea",
   "metadata": {
    "id": "eltffZoPj_DR",
    "papermill": {
     "duration": 0.090072,
     "end_time": "2022-03-14T15:18:41.911558",
     "exception": false,
     "start_time": "2022-03-14T15:18:41.821486",
     "status": "completed"
    },
    "tags": []
   },
   "source": [
    "<div id='7.1'></div>\n",
    "\n",
    "### 7.1 Number of athlete for each year"
   ]
  },
  {
   "cell_type": "code",
   "execution_count": 81,
   "id": "63cce577",
   "metadata": {
    "execution": {
     "iopub.execute_input": "2022-03-14T15:18:42.100029Z",
     "iopub.status.busy": "2022-03-14T15:18:42.099342Z",
     "iopub.status.idle": "2022-03-14T15:18:42.697250Z",
     "shell.execute_reply": "2022-03-14T15:18:42.696402Z",
     "shell.execute_reply.started": "2022-03-14T15:17:45.005012Z"
    },
    "id": "u_WaUJnzj_DS",
    "outputId": "48cc7c69-7e68-435f-aebe-b4ebbae6f9c9",
    "papermill": {
     "duration": 0.695069,
     "end_time": "2022-03-14T15:18:42.697535",
     "exception": false,
     "start_time": "2022-03-14T15:18:42.002466",
     "status": "completed"
    },
    "tags": []
   },
   "outputs": [
    {
     "data": {
      "text/plain": [
       "<matplotlib.axes._subplots.AxesSubplot at 0x1a702f37ca0>"
      ]
     },
     "execution_count": 81,
     "metadata": {},
     "output_type": "execute_result"
    },
    {
     "data": {
      "image/png": "[encoded data removed]",
      "text/plain": [
       "<Figure size 1080x504 with 1 Axes>"
      ]
     },
     "metadata": {
      "needs_background": "light"
     },
     "output_type": "display_data"
    }
   ],
   "source": [
    "athlete_number = df.groupby('Year')['ID'].nunique()\n",
    "plt.figure(figsize=(15,7))\n",
    "athlete_number.plot(kind='barh')"
   ]
  },
  {
   "cell_type": "markdown",
   "id": "9acf7a71",
   "metadata": {
    "id": "wLLl-ZMIj_DV",
    "papermill": {
     "duration": 0.094517,
     "end_time": "2022-03-14T15:18:46.942759",
     "exception": false,
     "start_time": "2022-03-14T15:18:46.848242",
     "status": "completed"
    },
    "tags": []
   },
   "source": [
    "<div id='7.3'></div>\n",
    "\n",
    "### 7.3 Number of each medal for each year"
   ]
  },
  {
   "cell_type": "code",
   "execution_count": 82,
   "id": "499000a4",
   "metadata": {
    "execution": {
     "iopub.execute_input": "2022-03-14T15:18:47.136721Z",
     "iopub.status.busy": "2022-03-14T15:18:47.136052Z",
     "iopub.status.idle": "2022-03-14T15:18:47.234291Z",
     "shell.execute_reply": "2022-03-14T15:18:47.233681Z",
     "shell.execute_reply.started": "2022-03-14T15:17:49.249672Z"
    },
    "id": "57WvT7rij_DW",
    "outputId": "f325a61a-6530-47f8-d717-f93b5f12ee42",
    "papermill": {
     "duration": 0.196807,
     "end_time": "2022-03-14T15:18:47.234446",
     "exception": false,
     "start_time": "2022-03-14T15:18:47.037639",
     "status": "completed"
    },
    "tags": []
   },
   "outputs": [
    {
     "data": {
      "text/html": [
       "<div>\n",
       "<style scoped>\n",
       "    .dataframe tbody tr th:only-of-type {\n",
       "        vertical-align: middle;\n",
       "    }\n",
       "\n",
       "    .dataframe tbody tr th {\n",
       "        vertical-align: top;\n",
       "    }\n",
       "\n",
       "    .dataframe thead th {\n",
       "        text-align: right;\n",
       "    }\n",
       "</style>\n",
       "<table border=\"1\" class=\"dataframe\">\n",
       "  <thead>\n",
       "    <tr style=\"text-align: right;\">\n",
       "      <th></th>\n",
       "      <th>Year</th>\n",
       "      <th>Season</th>\n",
       "      <th>Medal</th>\n",
       "      <th>medal_count</th>\n",
       "    </tr>\n",
       "  </thead>\n",
       "  <tbody>\n",
       "    <tr>\n",
       "      <th>0</th>\n",
       "      <td>1896</td>\n",
       "      <td>Summer</td>\n",
       "      <td>No Medal</td>\n",
       "      <td>237</td>\n",
       "    </tr>\n",
       "    <tr>\n",
       "      <th>1</th>\n",
       "      <td>1896</td>\n",
       "      <td>Summer</td>\n",
       "      <td>Gold</td>\n",
       "      <td>62</td>\n",
       "    </tr>\n",
       "    <tr>\n",
       "      <th>2</th>\n",
       "      <td>1896</td>\n",
       "      <td>Summer</td>\n",
       "      <td>Silver</td>\n",
       "      <td>43</td>\n",
       "    </tr>\n",
       "    <tr>\n",
       "      <th>3</th>\n",
       "      <td>1896</td>\n",
       "      <td>Summer</td>\n",
       "      <td>Bronze</td>\n",
       "      <td>38</td>\n",
       "    </tr>\n",
       "    <tr>\n",
       "      <th>4</th>\n",
       "      <td>1900</td>\n",
       "      <td>Summer</td>\n",
       "      <td>No Medal</td>\n",
       "      <td>1305</td>\n",
       "    </tr>\n",
       "    <tr>\n",
       "      <th>...</th>\n",
       "      <td>...</td>\n",
       "      <td>...</td>\n",
       "      <td>...</td>\n",
       "      <td>...</td>\n",
       "    </tr>\n",
       "    <tr>\n",
       "      <th>199</th>\n",
       "      <td>2014</td>\n",
       "      <td>Winter</td>\n",
       "      <td>Silver</td>\n",
       "      <td>197</td>\n",
       "    </tr>\n",
       "    <tr>\n",
       "      <th>200</th>\n",
       "      <td>2016</td>\n",
       "      <td>Summer</td>\n",
       "      <td>No Medal</td>\n",
       "      <td>11665</td>\n",
       "    </tr>\n",
       "    <tr>\n",
       "      <th>201</th>\n",
       "      <td>2016</td>\n",
       "      <td>Summer</td>\n",
       "      <td>Bronze</td>\n",
       "      <td>703</td>\n",
       "    </tr>\n",
       "    <tr>\n",
       "      <th>202</th>\n",
       "      <td>2016</td>\n",
       "      <td>Summer</td>\n",
       "      <td>Gold</td>\n",
       "      <td>665</td>\n",
       "    </tr>\n",
       "    <tr>\n",
       "      <th>203</th>\n",
       "      <td>2016</td>\n",
       "      <td>Summer</td>\n",
       "      <td>Silver</td>\n",
       "      <td>655</td>\n",
       "    </tr>\n",
       "  </tbody>\n",
       "</table>\n",
       "<p>204 rows × 4 columns</p>\n",
       "</div>"
      ],
      "text/plain": [
       "     Year  Season     Medal  medal_count\n",
       "0    1896  Summer  No Medal          237\n",
       "1    1896  Summer      Gold           62\n",
       "2    1896  Summer    Silver           43\n",
       "3    1896  Summer    Bronze           38\n",
       "4    1900  Summer  No Medal         1305\n",
       "..    ...     ...       ...          ...\n",
       "199  2014  Winter    Silver          197\n",
       "200  2016  Summer  No Medal        11665\n",
       "201  2016  Summer    Bronze          703\n",
       "202  2016  Summer      Gold          665\n",
       "203  2016  Summer    Silver          655\n",
       "\n",
       "[204 rows x 4 columns]"
      ]
     },
     "execution_count": 82,
     "metadata": {},
     "output_type": "execute_result"
    }
   ],
   "source": [
    "medal_count = df.groupby(['Year' ,'Season'])['Medal'].value_counts().reset_index(name='medal_count')\n",
    "medal_count"
   ]
  },
  {
   "cell_type": "code",
   "execution_count": 83,
   "id": "3888a9e1",
   "metadata": {
    "execution": {
     "iopub.execute_input": "2022-03-14T15:18:47.434068Z",
     "iopub.status.busy": "2022-03-14T15:18:47.433395Z",
     "iopub.status.idle": "2022-03-14T15:18:47.451840Z",
     "shell.execute_reply": "2022-03-14T15:18:47.452382Z",
     "shell.execute_reply.started": "2022-03-14T15:17:49.350152Z"
    },
    "id": "aDUgZynN2Jrs",
    "outputId": "874b4cdd-406f-42ab-ec66-5ac9931c9e6e",
    "papermill": {
     "duration": 0.121303,
     "end_time": "2022-03-14T15:18:47.452569",
     "exception": false,
     "start_time": "2022-03-14T15:18:47.331266",
     "status": "completed"
    },
    "tags": []
   },
   "outputs": [
    {
     "data": {
      "text/html": [
       "<div>\n",
       "<style scoped>\n",
       "    .dataframe tbody tr th:only-of-type {\n",
       "        vertical-align: middle;\n",
       "    }\n",
       "\n",
       "    .dataframe tbody tr th {\n",
       "        vertical-align: top;\n",
       "    }\n",
       "\n",
       "    .dataframe thead th {\n",
       "        text-align: right;\n",
       "    }\n",
       "</style>\n",
       "<table border=\"1\" class=\"dataframe\">\n",
       "  <thead>\n",
       "    <tr style=\"text-align: right;\">\n",
       "      <th></th>\n",
       "      <th>Medal</th>\n",
       "      <th>Bronze</th>\n",
       "      <th>Gold</th>\n",
       "      <th>No Medal</th>\n",
       "      <th>Silver</th>\n",
       "    </tr>\n",
       "    <tr>\n",
       "      <th>Year</th>\n",
       "      <th>Season</th>\n",
       "      <th></th>\n",
       "      <th></th>\n",
       "      <th></th>\n",
       "      <th></th>\n",
       "    </tr>\n",
       "  </thead>\n",
       "  <tbody>\n",
       "    <tr>\n",
       "      <th>1896</th>\n",
       "      <th>Summer</th>\n",
       "      <td>38</td>\n",
       "      <td>62</td>\n",
       "      <td>237</td>\n",
       "      <td>43</td>\n",
       "    </tr>\n",
       "    <tr>\n",
       "      <th>1900</th>\n",
       "      <th>Summer</th>\n",
       "      <td>175</td>\n",
       "      <td>198</td>\n",
       "      <td>1305</td>\n",
       "      <td>220</td>\n",
       "    </tr>\n",
       "    <tr>\n",
       "      <th>1904</th>\n",
       "      <th>Summer</th>\n",
       "      <td>150</td>\n",
       "      <td>173</td>\n",
       "      <td>815</td>\n",
       "      <td>163</td>\n",
       "    </tr>\n",
       "    <tr>\n",
       "      <th>1906</th>\n",
       "      <th>Summer</th>\n",
       "      <td>145</td>\n",
       "      <td>157</td>\n",
       "      <td>1275</td>\n",
       "      <td>156</td>\n",
       "    </tr>\n",
       "    <tr>\n",
       "      <th>1908</th>\n",
       "      <th>Summer</th>\n",
       "      <td>256</td>\n",
       "      <td>294</td>\n",
       "      <td>2238</td>\n",
       "      <td>281</td>\n",
       "    </tr>\n",
       "    <tr>\n",
       "      <th>1912</th>\n",
       "      <th>Summer</th>\n",
       "      <td>300</td>\n",
       "      <td>326</td>\n",
       "      <td>3099</td>\n",
       "      <td>315</td>\n",
       "    </tr>\n",
       "    <tr>\n",
       "      <th>1920</th>\n",
       "      <th>Summer</th>\n",
       "      <td>367</td>\n",
       "      <td>493</td>\n",
       "      <td>2984</td>\n",
       "      <td>448</td>\n",
       "    </tr>\n",
       "    <tr>\n",
       "      <th rowspan=\"2\" valign=\"top\">1924</th>\n",
       "      <th>Summer</th>\n",
       "      <td>274</td>\n",
       "      <td>277</td>\n",
       "      <td>4278</td>\n",
       "      <td>281</td>\n",
       "    </tr>\n",
       "    <tr>\n",
       "      <th>Winter</th>\n",
       "      <td>37</td>\n",
       "      <td>55</td>\n",
       "      <td>330</td>\n",
       "      <td>38</td>\n",
       "    </tr>\n",
       "    <tr>\n",
       "      <th>1928</th>\n",
       "      <th>Summer</th>\n",
       "      <td>250</td>\n",
       "      <td>245</td>\n",
       "      <td>3922</td>\n",
       "      <td>239</td>\n",
       "    </tr>\n",
       "  </tbody>\n",
       "</table>\n",
       "</div>"
      ],
      "text/plain": [
       "Medal        Bronze  Gold  No Medal  Silver\n",
       "Year Season                                \n",
       "1896 Summer      38    62       237      43\n",
       "1900 Summer     175   198      1305     220\n",
       "1904 Summer     150   173       815     163\n",
       "1906 Summer     145   157      1275     156\n",
       "1908 Summer     256   294      2238     281\n",
       "1912 Summer     300   326      3099     315\n",
       "1920 Summer     367   493      2984     448\n",
       "1924 Summer     274   277      4278     281\n",
       "     Winter      37    55       330      38\n",
       "1928 Summer     250   245      3922     239"
      ]
     },
     "execution_count": 83,
     "metadata": {},
     "output_type": "execute_result"
    }
   ],
   "source": [
    "medal_type_count_year =pd.pivot_table(medal_count, values='medal_count', index=['Year' ,'Season'], columns=['Medal'], aggfunc=np.sum)[:10]\n",
    "medal_type_count_year"
   ]
  },
  {
   "cell_type": "markdown",
   "id": "d9beaaf2",
   "metadata": {
    "id": "1qKyFJAS-NV_",
    "papermill": {
     "duration": 0.096588,
     "end_time": "2022-03-14T15:18:47.646734",
     "exception": false,
     "start_time": "2022-03-14T15:18:47.550146",
     "status": "completed"
    },
    "tags": []
   },
   "source": [
    "<div id='7.4'></div>\n",
    "\n",
    "### 7.4 Gender wise medal distribution in Summer Olympics"
   ]
  },
  {
   "cell_type": "code",
   "execution_count": 84,
   "id": "8270e13a",
   "metadata": {
    "execution": {
     "iopub.execute_input": "2022-03-14T15:18:47.843212Z",
     "iopub.status.busy": "2022-03-14T15:18:47.842501Z",
     "iopub.status.idle": "2022-03-14T15:18:48.238741Z",
     "shell.execute_reply": "2022-03-14T15:18:48.238143Z",
     "shell.execute_reply.started": "2022-03-14T15:17:49.376719Z"
    },
    "id": "zRTffyPy76LT",
    "outputId": "c5508d81-34a4-4125-c021-19460a575434",
    "papermill": {
     "duration": 0.495181,
     "end_time": "2022-03-14T15:18:48.238887",
     "exception": false,
     "start_time": "2022-03-14T15:18:47.743706",
     "status": "completed"
    },
    "tags": []
   },
   "outputs": [
    {
     "data": {
      "image/png": "[encoded data removed]",
      "text/plain": [
       "<Figure size 432x288 with 1 Axes>"
      ]
     },
     "metadata": {
      "needs_background": "light"
     },
     "output_type": "display_data"
    }
   ],
   "source": [
    "summer=df[df['Season']=='Summer']\n",
    "summer_medal = summer[summer['Medal']!='No Medal']\n",
    "sns.countplot(x='Medal',hue='Sex', data=summer_medal)\n",
    "plt.xlabel('Medal')\n",
    "plt.ylabel('Number of Medals')\n",
    "plt.title('Gender wise medal distribution in Summer Olympics')\n",
    "plt.show()"
   ]
  },
  {
   "cell_type": "markdown",
   "id": "40f81950",
   "metadata": {
    "id": "vqfIOMd8_0f6",
    "papermill": {
     "duration": 0.0985,
     "end_time": "2022-03-14T15:18:48.435282",
     "exception": false,
     "start_time": "2022-03-14T15:18:48.336782",
     "status": "completed"
    },
    "tags": []
   },
   "source": [
    "<div id='7.5'></div>\n",
    "\n",
    "### 7.5 Gender wise medal distribution in Winter Olympics\n",
    "\n",
    "---\n",
    "\n"
   ]
  },
  {
   "cell_type": "markdown",
   "id": "05312f76",
   "metadata": {
    "id": "Kt6_c1Mcj_DT",
    "papermill": {
     "duration": 0.100435,
     "end_time": "2022-03-14T15:18:49.119868",
     "exception": false,
     "start_time": "2022-03-14T15:18:49.019433",
     "status": "completed"
    },
    "tags": []
   },
   "source": [
    "<div id='7.6'></div>\n",
    "\n",
    "### 7.6 The names of the most players and how often they participated"
   ]
  },
  {
   "cell_type": "code",
   "execution_count": 85,
   "id": "333fe7f2",
   "metadata": {
    "execution": {
     "iopub.execute_input": "2022-03-14T15:18:49.337143Z",
     "iopub.status.busy": "2022-03-14T15:18:49.336376Z",
     "iopub.status.idle": "2022-03-14T15:18:49.794455Z",
     "shell.execute_reply": "2022-03-14T15:18:49.794907Z",
     "shell.execute_reply.started": "2022-03-14T15:17:50.058829Z"
    },
    "id": "bMhUVbjWj_DU",
    "outputId": "53afc961-58a2-40f1-80ef-de04d01b4dd6",
    "papermill": {
     "duration": 0.576189,
     "end_time": "2022-03-14T15:18:49.795093",
     "exception": false,
     "start_time": "2022-03-14T15:18:49.218904",
     "status": "completed"
    },
    "tags": []
   },
   "outputs": [
    {
     "data": {
      "text/html": [
       "<div>\n",
       "<style scoped>\n",
       "    .dataframe tbody tr th:only-of-type {\n",
       "        vertical-align: middle;\n",
       "    }\n",
       "\n",
       "    .dataframe tbody tr th {\n",
       "        vertical-align: top;\n",
       "    }\n",
       "\n",
       "    .dataframe thead th {\n",
       "        text-align: right;\n",
       "    }\n",
       "</style>\n",
       "<table border=\"1\" class=\"dataframe\">\n",
       "  <thead>\n",
       "    <tr style=\"text-align: right;\">\n",
       "      <th></th>\n",
       "      <th>Name</th>\n",
       "      <th>ID</th>\n",
       "      <th>Number</th>\n",
       "    </tr>\n",
       "  </thead>\n",
       "  <tbody>\n",
       "    <tr>\n",
       "      <th>0</th>\n",
       "      <td>Heikki Ilmari Savolainen</td>\n",
       "      <td>106296</td>\n",
       "      <td>39</td>\n",
       "    </tr>\n",
       "    <tr>\n",
       "      <th>1</th>\n",
       "      <td>Joseph \"Josy\" Stoffel</td>\n",
       "      <td>115354</td>\n",
       "      <td>38</td>\n",
       "    </tr>\n",
       "    <tr>\n",
       "      <th>2</th>\n",
       "      <td>Ioannis Theofilakis</td>\n",
       "      <td>119591</td>\n",
       "      <td>36</td>\n",
       "    </tr>\n",
       "    <tr>\n",
       "      <th>3</th>\n",
       "      <td>Takashi Ono</td>\n",
       "      <td>89187</td>\n",
       "      <td>32</td>\n",
       "    </tr>\n",
       "    <tr>\n",
       "      <th>4</th>\n",
       "      <td>Andreas Wecker</td>\n",
       "      <td>129196</td>\n",
       "      <td>32</td>\n",
       "    </tr>\n",
       "  </tbody>\n",
       "</table>\n",
       "</div>"
      ],
      "text/plain": [
       "                       Name      ID  Number\n",
       "0  Heikki Ilmari Savolainen  106296      39\n",
       "1     Joseph \"Josy\" Stoffel  115354      38\n",
       "2       Ioannis Theofilakis  119591      36\n",
       "3               Takashi Ono   89187      32\n",
       "4            Andreas Wecker  129196      32"
      ]
     },
     "execution_count": 85,
     "metadata": {},
     "output_type": "execute_result"
    }
   ],
   "source": [
    "df.groupby(['Name','ID'])['ID'].count().sort_values(ascending=False)[:5].reset_index(name='Number')"
   ]
  },
  {
   "cell_type": "markdown",
   "id": "699c9442",
   "metadata": {
    "id": "VTfNwfo1j_DY",
    "papermill": {
     "duration": 0.100163,
     "end_time": "2022-03-14T15:18:49.995729",
     "exception": false,
     "start_time": "2022-03-14T15:18:49.895566",
     "status": "completed"
    },
    "tags": []
   },
   "source": [
    "<div id='7.7'></div>\n",
    "\n",
    "### 7.7 Plot number of winners with the gold medal in each city"
   ]
  },
  {
   "cell_type": "code",
   "execution_count": 86,
   "id": "b639f615",
   "metadata": {
    "execution": {
     "iopub.execute_input": "2022-03-14T15:18:50.198293Z",
     "iopub.status.busy": "2022-03-14T15:18:50.197649Z",
     "iopub.status.idle": "2022-03-14T15:18:50.252325Z",
     "shell.execute_reply": "2022-03-14T15:18:50.252822Z",
     "shell.execute_reply.started": "2022-03-14T15:17:50.506984Z"
    },
    "id": "6dSco0Zjj_DZ",
    "outputId": "63d7bf7b-216e-4476-987b-303eb171c98f",
    "papermill": {
     "duration": 0.157745,
     "end_time": "2022-03-14T15:18:50.252994",
     "exception": false,
     "start_time": "2022-03-14T15:18:50.095249",
     "status": "completed"
    },
    "tags": []
   },
   "outputs": [
    {
     "data": {
      "text/plain": [
       "City\n",
       "London                    1215\n",
       "Athina                     883\n",
       "Los Angeles                726\n",
       "Beijing                    671\n",
       "Rio de Janeiro             665\n",
       "Sydney                     663\n",
       "Atlanta                    608\n",
       "Barcelona                  559\n",
       "Seoul                      520\n",
       "Antwerpen                  493\n",
       "Paris                      475\n",
       "Moskva                     457\n",
       "Montreal                   438\n",
       "Munich                     404\n",
       "Mexico City                359\n",
       "Tokyo                      347\n",
       "Stockholm                  338\n",
       "Berlin                     312\n",
       "Roma                       309\n",
       "Helsinki                   306\n",
       "Melbourne                  290\n",
       "Amsterdam                  245\n",
       "Sochi                      202\n",
       "Torino                     176\n",
       "Vancouver                  174\n",
       "St. Louis                  173\n",
       "Salt Lake City             162\n",
       "Nagano                     145\n",
       "Innsbruck                  131\n",
       "Lillehammer                110\n",
       "Lake Placid                104\n",
       "Albertville                104\n",
       "Calgary                     87\n",
       "Sarajevo                    74\n",
       "Sankt Moritz                71\n",
       "Sapporo                     70\n",
       "Grenoble                    66\n",
       "Chamonix                    55\n",
       "Cortina d'Ampezzo           51\n",
       "Squaw Valley                50\n",
       "Oslo                        45\n",
       "Garmisch-Partenkirchen      36\n",
       "Name: ID, dtype: int64"
      ]
     },
     "execution_count": 86,
     "metadata": {},
     "output_type": "execute_result"
    }
   ],
   "source": [
    "gold_data = df[df['Medal'] == 'Gold']\n",
    "num_c_gold= gold_data.groupby('City')['ID'].count().sort_values(ascending=False)\n",
    "num_c_gold\n"
   ]
  },
  {
   "cell_type": "code",
   "execution_count": 87,
   "id": "9604171b",
   "metadata": {
    "execution": {
     "iopub.execute_input": "2022-03-14T15:18:50.455606Z",
     "iopub.status.busy": "2022-03-14T15:18:50.454880Z",
     "iopub.status.idle": "2022-03-14T15:18:51.040955Z",
     "shell.execute_reply": "2022-03-14T15:18:51.041518Z",
     "shell.execute_reply.started": "2022-03-14T15:17:50.564130Z"
    },
    "id": "UhXp-JGaj_Db",
    "outputId": "312c99dc-5de4-41d5-92de-d8d03c22b719",
    "papermill": {
     "duration": 0.689175,
     "end_time": "2022-03-14T15:18:51.041847",
     "exception": false,
     "start_time": "2022-03-14T15:18:50.352672",
     "status": "completed"
    },
    "tags": []
   },
   "outputs": [
    {
     "data": {
      "image/png": "[encoded data removed]",
      "text/plain": [
       "<Figure size 1080x720 with 1 Axes>"
      ]
     },
     "metadata": {
      "needs_background": "light"
     },
     "output_type": "display_data"
    }
   ],
   "source": [
    "plt.figure(figsize=(15,10))\n",
    "num_c_gold.plot(kind='barh');"
   ]
  },
  {
   "cell_type": "markdown",
   "id": "77b7e816",
   "metadata": {
    "id": "6UHMf19Yj_Dc",
    "papermill": {
     "duration": 0.100571,
     "end_time": "2022-03-14T15:18:51.244127",
     "exception": false,
     "start_time": "2022-03-14T15:18:51.143556",
     "status": "completed"
    },
    "tags": []
   },
   "source": [
    "<div id='7.8'></div>\n",
    "\n",
    "### 7.8 Plot number of winners with the Gold medal in each Year"
   ]
  },
  {
   "cell_type": "code",
   "execution_count": 88,
   "id": "869afc19",
   "metadata": {
    "execution": {
     "iopub.execute_input": "2022-03-14T15:18:51.449380Z",
     "iopub.status.busy": "2022-03-14T15:18:51.448687Z",
     "iopub.status.idle": "2022-03-14T15:18:51.455982Z",
     "shell.execute_reply": "2022-03-14T15:18:51.456493Z",
     "shell.execute_reply.started": "2022-03-14T15:17:51.154639Z"
    },
    "id": "CYxluoVTj_Dd",
    "outputId": "d8b0fbe2-30e2-4a97-ce37-031bb40aa09f",
    "papermill": {
     "duration": 0.111816,
     "end_time": "2022-03-14T15:18:51.456673",
     "exception": false,
     "start_time": "2022-03-14T15:18:51.344857",
     "status": "completed"
    },
    "tags": []
   },
   "outputs": [
    {
     "data": {
      "text/plain": [
       "Year\n",
       "1896     62\n",
       "1994    110\n",
       "1998    145\n",
       "1906    157\n",
       "2002    162\n",
       "1904    173\n",
       "2010    174\n",
       "2006    176\n",
       "1900    198\n",
       "2014    202\n",
       "1932    261\n",
       "1928    275\n",
       "1908    294\n",
       "1912    326\n",
       "1948    330\n",
       "1924    332\n",
       "1936    348\n",
       "1952    351\n",
       "1956    353\n",
       "1960    359\n",
       "1964    408\n",
       "1968    425\n",
       "1972    474\n",
       "1920    493\n",
       "1976    508\n",
       "1980    529\n",
       "1984    571\n",
       "1988    607\n",
       "1996    608\n",
       "2012    632\n",
       "2000    663\n",
       "1992    663\n",
       "2004    664\n",
       "2016    665\n",
       "2008    671\n",
       "Name: ID, dtype: int64"
      ]
     },
     "execution_count": 88,
     "metadata": {},
     "output_type": "execute_result"
    }
   ],
   "source": [
    "num_c_gold=gold_data.groupby('Year')['ID'].count().sort_values(ascending=True)\n",
    "num_c_gold"
   ]
  },
  {
   "cell_type": "code",
   "execution_count": 89,
   "id": "0382e889",
   "metadata": {
    "execution": {
     "iopub.execute_input": "2022-03-14T15:18:51.665707Z",
     "iopub.status.busy": "2022-03-14T15:18:51.664978Z",
     "iopub.status.idle": "2022-03-14T15:18:52.093522Z",
     "shell.execute_reply": "2022-03-14T15:18:52.092839Z",
     "shell.execute_reply.started": "2022-03-14T15:17:51.166618Z"
    },
    "id": "Aci3JkS1j_De",
    "outputId": "83322412-508a-4317-b5c2-36587d17ed08",
    "papermill": {
     "duration": 0.535317,
     "end_time": "2022-03-14T15:18:52.093673",
     "exception": false,
     "start_time": "2022-03-14T15:18:51.558356",
     "status": "completed"
    },
    "tags": []
   },
   "outputs": [
    {
     "data": {
      "image/png": "[encoded data removed]",
      "text/plain": [
       "<Figure size 1080x720 with 1 Axes>"
      ]
     },
     "metadata": {
      "needs_background": "light"
     },
     "output_type": "display_data"
    }
   ],
   "source": [
    "plt.figure(figsize=(15,10))\n",
    "num_c_gold.plot(kind='barh' );"
   ]
  },
  {
   "cell_type": "markdown",
   "id": "7e4dcdda",
   "metadata": {
    "id": "PKsKs6_C8Zk7",
    "papermill": {
     "duration": 0.10599,
     "end_time": "2022-03-14T15:18:52.303916",
     "exception": false,
     "start_time": "2022-03-14T15:18:52.197926",
     "status": "completed"
    },
    "tags": []
   },
   "source": [
    "<div id='7.9'></div>\n",
    "\n",
    "### 7.9 Sport Held in Summer Olympic"
   ]
  },
  {
   "cell_type": "code",
   "execution_count": 90,
   "id": "97ec96e2",
   "metadata": {
    "execution": {
     "iopub.execute_input": "2022-03-14T15:18:52.540079Z",
     "iopub.status.busy": "2022-03-14T15:18:52.539020Z",
     "iopub.status.idle": "2022-03-14T15:18:52.627566Z",
     "shell.execute_reply": "2022-03-14T15:18:52.626969Z",
     "shell.execute_reply.started": "2022-03-14T15:17:51.595800Z"
    },
    "id": "3xXB6mY82YOy",
    "outputId": "ff6ba982-82f6-4c90-a0a5-2ebc3ff609db",
    "papermill": {
     "duration": 0.20723,
     "end_time": "2022-03-14T15:18:52.627723",
     "exception": false,
     "start_time": "2022-03-14T15:18:52.420493",
     "status": "completed"
    },
    "tags": []
   },
   "outputs": [
    {
     "data": {
      "text/plain": [
       "array(['Basketball', 'Judo', 'Football', 'Tug-Of-War', 'Athletics',\n",
       "       'Swimming', 'Badminton', 'Sailing', 'Gymnastics',\n",
       "       'Art Competitions', 'Handball', 'Weightlifting', 'Wrestling',\n",
       "       'Water Polo', 'Hockey', 'Rowing', 'Fencing', 'Equestrianism',\n",
       "       'Shooting', 'Boxing', 'Taekwondo', 'Cycling', 'Diving', 'Canoeing',\n",
       "       'Tennis', 'Modern Pentathlon', 'Golf', 'Softball', 'Archery',\n",
       "       'Volleyball', 'Synchronized Swimming', 'Table Tennis', 'Baseball',\n",
       "       'Rhythmic Gymnastics', 'Rugby Sevens', 'Trampolining',\n",
       "       'Beach Volleyball', 'Triathlon', 'Rugby', 'Lacrosse', 'Polo',\n",
       "       'Cricket', 'Ice Hockey', 'Racquets', 'Motorboating', 'Croquet',\n",
       "       'Figure Skating', 'Jeu De Paume', 'Roque', 'Basque Pelota',\n",
       "       'Alpinism', 'Aeronautics'], dtype=object)"
      ]
     },
     "execution_count": 90,
     "metadata": {},
     "output_type": "execute_result"
    }
   ],
   "source": [
    "summer_sport_unique =df.query(\"Season == 'Summer'\")['Sport'].unique()\n",
    "summer_sport_unique"
   ]
  },
  {
   "cell_type": "markdown",
   "id": "ee1d1ce5",
   "metadata": {
    "id": "iLCdUlabB6qi",
    "papermill": {
     "duration": 0.103565,
     "end_time": "2022-03-14T15:18:52.835889",
     "exception": false,
     "start_time": "2022-03-14T15:18:52.732324",
     "status": "completed"
    },
    "tags": []
   },
   "source": [
    "<div id='7.10'></div>\n",
    "\n",
    "### 7.10 Count of Participant in each summer sport"
   ]
  },
  {
   "cell_type": "code",
   "execution_count": 91,
   "id": "0624df92",
   "metadata": {
    "execution": {
     "iopub.execute_input": "2022-03-14T15:18:53.051716Z",
     "iopub.status.busy": "2022-03-14T15:18:53.050588Z",
     "iopub.status.idle": "2022-03-14T15:18:54.192435Z",
     "shell.execute_reply": "2022-03-14T15:18:54.192953Z",
     "shell.execute_reply.started": "2022-03-14T15:17:51.683791Z"
    },
    "id": "8eE8SHrlmoOC",
    "outputId": "f1e91700-4411-4d04-d3e2-c6cbd64ca527",
    "papermill": {
     "duration": 1.254068,
     "end_time": "2022-03-14T15:18:54.193122",
     "exception": false,
     "start_time": "2022-03-14T15:18:52.939054",
     "status": "completed"
    },
    "tags": []
   },
   "outputs": [
    {
     "data": {
      "text/plain": [
       "<matplotlib.axes._subplots.AxesSubplot at 0x1a700cf68b0>"
      ]
     },
     "execution_count": 91,
     "metadata": {},
     "output_type": "execute_result"
    },
    {
     "data": {
      "image/png": "[encoded data removed]",
      "text/plain": [
       "<Figure size 1080x720 with 1 Axes>"
      ]
     },
     "metadata": {
      "needs_background": "light"
     },
     "output_type": "display_data"
    }
   ],
   "source": [
    "plt.figure(figsize=(15,10))\n",
    "count_participant_summer = df.query(\"Season == 'Summer'\")['Sport'].value_counts()\n",
    "sns.barplot(x=count_participant_summer, y=count_participant_summer.index, palette = 'Set2')"
   ]
  },
  {
   "cell_type": "markdown",
   "id": "0d7e3c4d",
   "metadata": {
    "id": "bteQxf7z9RPX",
    "papermill": {
     "duration": 0.104536,
     "end_time": "2022-03-14T15:18:54.403544",
     "exception": false,
     "start_time": "2022-03-14T15:18:54.299008",
     "status": "completed"
    },
    "tags": []
   },
   "source": [
    "<div id='7.11'></div>\n",
    "\n",
    "### 7.11 Male And Female Participant in Each Winter Sport"
   ]
  },
  {
   "cell_type": "code",
   "execution_count": 92,
   "id": "cbe6f800",
   "metadata": {
    "execution": {
     "iopub.execute_input": "2022-03-14T15:18:54.618246Z",
     "iopub.status.busy": "2022-03-14T15:18:54.617552Z",
     "iopub.status.idle": "2022-03-14T15:18:55.309880Z",
     "shell.execute_reply": "2022-03-14T15:18:55.309229Z",
     "shell.execute_reply.started": "2022-03-14T15:17:52.878664Z"
    },
    "id": "AHvrmMKkvhr3",
    "outputId": "de9d499f-2ddb-44ac-a530-02f3ee77575e",
    "papermill": {
     "duration": 0.801718,
     "end_time": "2022-03-14T15:18:55.310023",
     "exception": false,
     "start_time": "2022-03-14T15:18:54.508305",
     "status": "completed"
    },
    "tags": []
   },
   "outputs": [
    {
     "data": {
      "text/plain": [
       "<matplotlib.axes._subplots.AxesSubplot at 0x1a702e819a0>"
      ]
     },
     "execution_count": 92,
     "metadata": {},
     "output_type": "execute_result"
    },
    {
     "data": {
      "image/png": "[encoded data removed]",
      "text/plain": [
       "<Figure size 864x432 with 1 Axes>"
      ]
     },
     "metadata": {
      "needs_background": "light"
     },
     "output_type": "display_data"
    }
   ],
   "source": [
    "plt.figure(figsize=(12,6))\n",
    "sns.countplot(data=df, y = df.query(\"Season == 'Winter'\")['Sport'], hue='Sex')"
   ]
  },
  {
   "cell_type": "markdown",
   "id": "805eb03e",
   "metadata": {
    "id": "nNFlVljB9F69",
    "papermill": {
     "duration": 0.105999,
     "end_time": "2022-03-14T15:18:55.524301",
     "exception": false,
     "start_time": "2022-03-14T15:18:55.418302",
     "status": "completed"
    },
    "tags": []
   },
   "source": [
    "<div id='7.12'></div>\n",
    "\n",
    "### 7.12 Top Countries in Olympic Medals"
   ]
  },
  {
   "cell_type": "code",
   "execution_count": 47,
   "id": "f6aa0084",
   "metadata": {
    "execution": {
     "iopub.execute_input": "2022-03-14T15:18:55.745236Z",
     "iopub.status.busy": "2022-03-14T15:18:55.744507Z",
     "iopub.status.idle": "2022-03-14T15:18:56.040611Z",
     "shell.execute_reply": "2022-03-14T15:18:56.040053Z",
     "shell.execute_reply.started": "2022-03-14T15:17:53.562709Z"
    },
    "id": "Om9xKhettfnz",
    "outputId": "48e25eb0-a175-43b7-c9a6-7773588dfb3a",
    "papermill": {
     "duration": 0.406473,
     "end_time": "2022-03-14T15:18:56.040767",
     "exception": false,
     "start_time": "2022-03-14T15:18:55.634294",
     "status": "completed"
    },
    "tags": []
   },
   "outputs": [
    {
     "data": {
      "image/png": "[encoded data removed]",
      "text/plain": [
       "<Figure size 432x288 with 1 Axes>"
      ]
     },
     "metadata": {
      "needs_background": "light"
     },
     "output_type": "display_data"
    }
   ],
   "source": [
    "top_countries=df.groupby('Region')['Medal'].count().nlargest(10).reset_index()\n",
    "sns.barplot('Region','Medal', data=top_countries)\n",
    "plt.title('Top Countries in Olympic Medals')\n",
    "plt.xticks(\n",
    "    rotation=45, \n",
    "    horizontalalignment='right',\n",
    "    fontweight='light',\n",
    "    fontsize='x-large'  \n",
    ")\n",
    "plt.show()"
   ]
  },
  {
   "cell_type": "markdown",
   "id": "c16e4435",
   "metadata": {
    "id": "OuauIyQi8ubJ",
    "papermill": {
     "duration": 0.108192,
     "end_time": "2022-03-14T15:18:56.743898",
     "exception": false,
     "start_time": "2022-03-14T15:18:56.635706",
     "status": "completed"
    },
    "tags": []
   },
   "source": [
    "<div id='7.14'></div>\n",
    "\n",
    "### 7.14 The Relationship Between Height and Weight by Gender"
   ]
  },
  {
   "cell_type": "raw",
   "id": "51d63aa3",
   "metadata": {
    "execution": {
     "iopub.execute_input": "2022-03-14T15:18:57.009644Z",
     "iopub.status.busy": "2022-03-14T15:18:57.008479Z",
     "iopub.status.idle": "2022-03-14T15:18:59.711883Z",
     "shell.execute_reply": "2022-03-14T15:18:59.712455Z",
     "shell.execute_reply.started": "2022-03-14T15:17:53.897885Z"
    },
    "id": "MNeYDCbd6GIr",
    "outputId": "68892cef-257c-4405-a4a2-753040616da4",
    "papermill": {
     "duration": 2.859701,
     "end_time": "2022-03-14T15:18:59.712643",
     "exception": false,
     "start_time": "2022-03-14T15:18:56.852942",
     "status": "completed"
    },
    "tags": []
   },
   "source": [
    "male = all_data_df[all_data_df['Sex'] == \"M\"]\n",
    "female = all_data_df[all_data_df['Sex'] == \"F\"]\n",
    "plt.figure(figsize = (10,5))\n",
    "plt.scatter(male['Height'], male['Weight'], label = \"Male\")\n",
    "plt.scatter(female['Height'], female['Weight'], label = \"Female\", color = \"pink\", alpha= 0.4)\n",
    "plt.xlabel(\"Height\")\n",
    "plt.ylabel(\"Weight\")\n",
    "plt.title(\"The Relationship Between Height and Weight by Gender\")\n",
    "plt.legend()\n",
    "plt.show()"
   ]
  },
  {
   "cell_type": "markdown",
   "id": "7337f153",
   "metadata": {
    "id": "uvGmrcqfqKgH",
    "papermill": {
     "duration": 0.109969,
     "end_time": "2022-03-14T15:18:59.933629",
     "exception": false,
     "start_time": "2022-03-14T15:18:59.823660",
     "status": "completed"
    },
    "tags": []
   },
   "source": [
    "<div id='7.15'></div>\n",
    "\n",
    "### 7.15 Total number of Female athletes in each summer olympics"
   ]
  },
  {
   "cell_type": "code",
   "execution_count": 93,
   "id": "7f55c6a3",
   "metadata": {
    "execution": {
     "iopub.execute_input": "2022-03-14T15:19:00.157949Z",
     "iopub.status.busy": "2022-03-14T15:19:00.157335Z",
     "iopub.status.idle": "2022-03-14T15:19:00.746777Z",
     "shell.execute_reply": "2022-03-14T15:19:00.746125Z",
     "shell.execute_reply.started": "2022-03-14T15:17:56.597088Z"
    },
    "id": "jeAoT-n9ppVX",
    "outputId": "702abe9c-4912-40e6-dfbc-bc2f7ebefa69",
    "papermill": {
     "duration": 0.702419,
     "end_time": "2022-03-14T15:19:00.746939",
     "exception": false,
     "start_time": "2022-03-14T15:19:00.044520",
     "status": "completed"
    },
    "tags": []
   },
   "outputs": [
    {
     "data": {
      "image/png": "[encoded data removed]",
      "text/plain": [
       "<Figure size 864x432 with 1 Axes>"
      ]
     },
     "metadata": {
      "needs_background": "light"
     },
     "output_type": "display_data"
    }
   ],
   "source": [
    "# Total number of Female athletes in each summer olympics\n",
    "female_participant_summer = df.query(\"Sex == 'F' & Season == 'Summer'\")[['Sex','Year']]\n",
    "female_participant_summer = female_participant_summer.groupby('Year').count().reset_index()\n",
    "plt.figure(figsize=(12,6))\n",
    "plt.title('Female Participant in Each Summer Olympic')\n",
    "plt.xticks(rotation=90)\n",
    "sns.barplot(data=female_participant_summer,x='Year',y='Sex')\n",
    "plt.ylabel('Count')\n",
    "plt.show()"
   ]
  },
  {
   "cell_type": "markdown",
   "id": "1da1aadc",
   "metadata": {
    "id": "6lL8JhV6rLJs",
    "papermill": {
     "duration": 0.11351,
     "end_time": "2022-03-14T15:19:00.974850",
     "exception": false,
     "start_time": "2022-03-14T15:19:00.861340",
     "status": "completed"
    },
    "tags": []
   },
   "source": [
    "<div id='7.16'></div>\n",
    "\n",
    "### 7.16 Total number of Male athletes in each summer olympics"
   ]
  },
  {
   "cell_type": "code",
   "execution_count": 94,
   "id": "fef01a83",
   "metadata": {
    "execution": {
     "iopub.execute_input": "2022-03-14T15:19:01.203747Z",
     "iopub.status.busy": "2022-03-14T15:19:01.203026Z",
     "iopub.status.idle": "2022-03-14T15:19:01.505666Z",
     "shell.execute_reply": "2022-03-14T15:19:01.506192Z",
     "shell.execute_reply.started": "2022-03-14T15:17:57.181276Z"
    },
    "id": "dKTBo9ZGqmmo",
    "outputId": "2a71270f-56a8-4277-b38b-f0da30d161fe",
    "papermill": {
     "duration": 0.417889,
     "end_time": "2022-03-14T15:19:01.506372",
     "exception": false,
     "start_time": "2022-03-14T15:19:01.088483",
     "status": "completed"
    },
    "tags": []
   },
   "outputs": [
    {
     "data": {
      "image/png": "[encoded data removed]",
      "text/plain": [
       "<Figure size 864x432 with 1 Axes>"
      ]
     },
     "metadata": {
      "needs_background": "light"
     },
     "output_type": "display_data"
    }
   ],
   "source": [
    "male_participant_summer = df.query(\"Sex == 'M' & Season == 'Summer'\")[['Sex','Year']]\n",
    "male_participant_summer = male_participant_summer.groupby('Year').count().reset_index()\n",
    "plt.figure(figsize=(12,6))\n",
    "plt.title('Male Participant in Each Summer Olympic')\n",
    "plt.xticks(rotation=90)\n",
    "sns.lineplot(data=male_participant_summer,x='Year',y='Sex')\n",
    "plt.ylabel('Count')\n",
    "plt.show()"
   ]
  },
  {
   "cell_type": "markdown",
   "id": "1a71aac9",
   "metadata": {
    "id": "pJ4latbDHqob",
    "papermill": {
     "duration": 0.113052,
     "end_time": "2022-03-14T15:19:01.732706",
     "exception": false,
     "start_time": "2022-03-14T15:19:01.619654",
     "status": "completed"
    },
    "tags": []
   },
   "source": [
    "<div id='7.17'></div>\n",
    "\n",
    "### 7.17 number of athletes changed over time for Summer and Winter\n",
    "\n",
    "\n",
    "\n",
    "\n",
    "\n",
    "\n",
    "\n"
   ]
  },
  {
   "cell_type": "code",
   "execution_count": 95,
   "id": "d6944b5b",
   "metadata": {
    "execution": {
     "iopub.execute_input": "2022-03-14T15:19:01.963474Z",
     "iopub.status.busy": "2022-03-14T15:19:01.962786Z",
     "iopub.status.idle": "2022-03-14T15:19:02.034325Z",
     "shell.execute_reply": "2022-03-14T15:19:02.033744Z",
     "shell.execute_reply.started": "2022-03-14T15:17:57.483448Z"
    },
    "id": "ywk3HAthH0CE",
    "outputId": "2feb3842-e981-467f-974e-db55b2f42f11",
    "papermill": {
     "duration": 0.188406,
     "end_time": "2022-03-14T15:19:02.034487",
     "exception": false,
     "start_time": "2022-03-14T15:19:01.846081",
     "status": "completed"
    },
    "tags": []
   },
   "outputs": [
    {
     "data": {
      "text/plain": [
       "Year  Season\n",
       "2016  Summer    11179\n",
       "2014  Winter     2745\n",
       "2012  Summer    10517\n",
       "2010  Winter     2536\n",
       "2008  Summer    10899\n",
       "2006  Winter     2494\n",
       "2004  Summer    10557\n",
       "2002  Winter     2399\n",
       "2000  Summer    10647\n",
       "1998  Winter     2179\n",
       "1996  Summer    10339\n",
       "1994  Winter     1738\n",
       "1992  Winter     1801\n",
       "      Summer     9386\n",
       "1988  Winter     1425\n",
       "      Summer     8454\n",
       "1984  Winter     1273\n",
       "      Summer     6798\n",
       "1980  Winter     1071\n",
       "      Summer     5259\n",
       "1976  Winter     1128\n",
       "      Summer     6073\n",
       "1972  Winter     1008\n",
       "      Summer     7114\n",
       "1968  Winter     1160\n",
       "      Summer     5558\n",
       "1964  Winter     1094\n",
       "      Summer     5137\n",
       "1960  Winter      665\n",
       "      Summer     5352\n",
       "1956  Winter      821\n",
       "      Summer     3347\n",
       "1952  Winter      694\n",
       "      Summer     4932\n",
       "1948  Winter      668\n",
       "      Summer     4402\n",
       "1936  Winter      668\n",
       "      Summer     4484\n",
       "1932  Winter      252\n",
       "      Summer     1922\n",
       "1928  Winter      461\n",
       "      Summer     3247\n",
       "1924  Winter      313\n",
       "      Summer     3256\n",
       "1920  Summer     2676\n",
       "1912  Summer     2409\n",
       "1908  Summer     2024\n",
       "1906  Summer      841\n",
       "1904  Summer      650\n",
       "1900  Summer     1224\n",
       "1896  Summer      176\n",
       "Name: ID, dtype: int64"
      ]
     },
     "execution_count": 95,
     "metadata": {},
     "output_type": "execute_result"
    }
   ],
   "source": [
    "n_athletes_over_years = df.groupby(['Year', 'Season'])['ID'].nunique().sort_index(ascending=False)\n",
    "n_athletes_over_years"
   ]
  },
  {
   "cell_type": "code",
   "execution_count": null,
   "id": "62b31878",
   "metadata": {},
   "outputs": [],
   "source": []
  },
  {
   "cell_type": "code",
   "execution_count": null,
   "id": "cc4f4196",
   "metadata": {},
   "outputs": [],
   "source": []
  },
  {
   "cell_type": "code",
   "execution_count": null,
   "id": "6a9702f1",
   "metadata": {},
   "outputs": [],
   "source": []
  }
 ],
 "metadata": {
  "kernelspec": {
   "display_name": "Python 3 (ipykernel)",
   "language": "python",
   "name": "python3"
  },
  "language_info": {
   "codemirror_mode": {
    "name": "ipython",
    "version": 3
   },
   "file_extension": ".py",
   "mimetype": "text/x-python",
   "name": "python",
   "nbconvert_exporter": "python",
   "pygments_lexer": "ipython3",
   "version": "3.9.12"
  },
  "papermill": {
   "default_parameters": {},
   "duration": 48.394181,
   "end_time": "2022-03-14T15:19:03.646677",
   "environment_variables": {},
   "exception": null,
   "input_path": "__notebook__.ipynb",
   "output_path": "__notebook__.ipynb",
   "parameters": {},
   "start_time": "2022-03-14T15:18:15.252496",
   "version": "2.3.3"
  }
 },
 "nbformat": 4,
 "nbformat_minor": 5
}
