{
 "cells": [
  {
   "cell_type": "code",
   "execution_count": 1,
   "metadata": {},
   "outputs": [],
   "source": [
    "import pandas as pd\n",
    "import numpy as np\n"
   ]
  },
  {
   "cell_type": "code",
   "execution_count": 5,
   "metadata": {},
   "outputs": [],
   "source": [
    "df_food = pd.read_csv(\"train.csv\")"
   ]
  },
  {
   "cell_type": "code",
   "execution_count": 6,
   "metadata": {},
   "outputs": [
    {
     "data": {
      "text/html": [
       "<div>\n",
       "<style scoped>\n",
       "    .dataframe tbody tr th:only-of-type {\n",
       "        vertical-align: middle;\n",
       "    }\n",
       "\n",
       "    .dataframe tbody tr th {\n",
       "        vertical-align: top;\n",
       "    }\n",
       "\n",
       "    .dataframe thead th {\n",
       "        text-align: right;\n",
       "    }\n",
       "</style>\n",
       "<table border=\"1\" class=\"dataframe\">\n",
       "  <thead>\n",
       "    <tr style=\"text-align: right;\">\n",
       "      <th></th>\n",
       "      <th>id</th>\n",
       "      <th>week</th>\n",
       "      <th>center_id</th>\n",
       "      <th>meal_id</th>\n",
       "      <th>checkout_price</th>\n",
       "      <th>base_price</th>\n",
       "      <th>emailer_for_promotion</th>\n",
       "      <th>homepage_featured</th>\n",
       "      <th>num_orders</th>\n",
       "    </tr>\n",
       "  </thead>\n",
       "  <tbody>\n",
       "    <tr>\n",
       "      <th>0</th>\n",
       "      <td>1379560</td>\n",
       "      <td>1</td>\n",
       "      <td>55</td>\n",
       "      <td>1885</td>\n",
       "      <td>136.83</td>\n",
       "      <td>152.29</td>\n",
       "      <td>0</td>\n",
       "      <td>0</td>\n",
       "      <td>177</td>\n",
       "    </tr>\n",
       "    <tr>\n",
       "      <th>1</th>\n",
       "      <td>1466964</td>\n",
       "      <td>1</td>\n",
       "      <td>55</td>\n",
       "      <td>1993</td>\n",
       "      <td>136.83</td>\n",
       "      <td>135.83</td>\n",
       "      <td>0</td>\n",
       "      <td>0</td>\n",
       "      <td>270</td>\n",
       "    </tr>\n",
       "    <tr>\n",
       "      <th>2</th>\n",
       "      <td>1346989</td>\n",
       "      <td>1</td>\n",
       "      <td>55</td>\n",
       "      <td>2539</td>\n",
       "      <td>134.86</td>\n",
       "      <td>135.86</td>\n",
       "      <td>0</td>\n",
       "      <td>0</td>\n",
       "      <td>189</td>\n",
       "    </tr>\n",
       "    <tr>\n",
       "      <th>3</th>\n",
       "      <td>1338232</td>\n",
       "      <td>1</td>\n",
       "      <td>55</td>\n",
       "      <td>2139</td>\n",
       "      <td>339.50</td>\n",
       "      <td>437.53</td>\n",
       "      <td>0</td>\n",
       "      <td>0</td>\n",
       "      <td>54</td>\n",
       "    </tr>\n",
       "    <tr>\n",
       "      <th>4</th>\n",
       "      <td>1448490</td>\n",
       "      <td>1</td>\n",
       "      <td>55</td>\n",
       "      <td>2631</td>\n",
       "      <td>243.50</td>\n",
       "      <td>242.50</td>\n",
       "      <td>0</td>\n",
       "      <td>0</td>\n",
       "      <td>40</td>\n",
       "    </tr>\n",
       "  </tbody>\n",
       "</table>\n",
       "</div>"
      ],
      "text/plain": [
       "        id  week  center_id  meal_id  checkout_price  base_price  \\\n",
       "0  1379560     1         55     1885          136.83      152.29   \n",
       "1  1466964     1         55     1993          136.83      135.83   \n",
       "2  1346989     1         55     2539          134.86      135.86   \n",
       "3  1338232     1         55     2139          339.50      437.53   \n",
       "4  1448490     1         55     2631          243.50      242.50   \n",
       "\n",
       "   emailer_for_promotion  homepage_featured  num_orders  \n",
       "0                      0                  0         177  \n",
       "1                      0                  0         270  \n",
       "2                      0                  0         189  \n",
       "3                      0                  0          54  \n",
       "4                      0                  0          40  "
      ]
     },
     "execution_count": 6,
     "metadata": {},
     "output_type": "execute_result"
    }
   ],
   "source": [
    "df_food.head()"
   ]
  },
  {
   "cell_type": "code",
   "execution_count": 7,
   "metadata": {},
   "outputs": [],
   "source": [
    "df_meal = pd.read_csv(\"meal_info.csv\")"
   ]
  },
  {
   "cell_type": "code",
   "execution_count": 8,
   "metadata": {},
   "outputs": [
    {
     "data": {
      "text/html": [
       "<div>\n",
       "<style scoped>\n",
       "    .dataframe tbody tr th:only-of-type {\n",
       "        vertical-align: middle;\n",
       "    }\n",
       "\n",
       "    .dataframe tbody tr th {\n",
       "        vertical-align: top;\n",
       "    }\n",
       "\n",
       "    .dataframe thead th {\n",
       "        text-align: right;\n",
       "    }\n",
       "</style>\n",
       "<table border=\"1\" class=\"dataframe\">\n",
       "  <thead>\n",
       "    <tr style=\"text-align: right;\">\n",
       "      <th></th>\n",
       "      <th>meal_id</th>\n",
       "      <th>category</th>\n",
       "      <th>cuisine</th>\n",
       "    </tr>\n",
       "  </thead>\n",
       "  <tbody>\n",
       "    <tr>\n",
       "      <th>0</th>\n",
       "      <td>1885</td>\n",
       "      <td>Beverages</td>\n",
       "      <td>Thai</td>\n",
       "    </tr>\n",
       "    <tr>\n",
       "      <th>1</th>\n",
       "      <td>1993</td>\n",
       "      <td>Beverages</td>\n",
       "      <td>Thai</td>\n",
       "    </tr>\n",
       "    <tr>\n",
       "      <th>2</th>\n",
       "      <td>2539</td>\n",
       "      <td>Beverages</td>\n",
       "      <td>Thai</td>\n",
       "    </tr>\n",
       "    <tr>\n",
       "      <th>3</th>\n",
       "      <td>1248</td>\n",
       "      <td>Beverages</td>\n",
       "      <td>Indian</td>\n",
       "    </tr>\n",
       "    <tr>\n",
       "      <th>4</th>\n",
       "      <td>2631</td>\n",
       "      <td>Beverages</td>\n",
       "      <td>Indian</td>\n",
       "    </tr>\n",
       "  </tbody>\n",
       "</table>\n",
       "</div>"
      ],
      "text/plain": [
       "   meal_id   category cuisine\n",
       "0     1885  Beverages    Thai\n",
       "1     1993  Beverages    Thai\n",
       "2     2539  Beverages    Thai\n",
       "3     1248  Beverages  Indian\n",
       "4     2631  Beverages  Indian"
      ]
     },
     "execution_count": 8,
     "metadata": {},
     "output_type": "execute_result"
    }
   ],
   "source": [
    "df_meal.head()"
   ]
  },
  {
   "cell_type": "code",
   "execution_count": 12,
   "metadata": {},
   "outputs": [
    {
     "data": {
      "application/javascript": [
       "\n",
       "        if (window._pyforest_update_imports_cell) { window._pyforest_update_imports_cell('import matplotlib.pyplot as plt'); }\n",
       "    "
      ],
      "text/plain": [
       "<IPython.core.display.Javascript object>"
      ]
     },
     "metadata": {},
     "output_type": "display_data"
    },
    {
     "data": {
      "application/javascript": [
       "\n",
       "        if (window._pyforest_update_imports_cell) { window._pyforest_update_imports_cell('import matplotlib.pyplot as plt'); }\n",
       "    "
      ],
      "text/plain": [
       "<IPython.core.display.Javascript object>"
      ]
     },
     "metadata": {},
     "output_type": "display_data"
    },
    {
     "data": {
      "image/png": "[encoded data removed]",
      "text/plain": [
       "<Figure size 432x288 with 1 Axes>"
      ]
     },
     "metadata": {
      "needs_background": "light"
     },
     "output_type": "display_data"
    }
   ],
   "source": [
    "x  = np.random.randn(30)\n",
    "y = np.random.randn(30)\n",
    "\n",
    "\n",
    "plt.scatter(x,y)\n",
    "plt.show()"
   ]
  },
  {
   "cell_type": "raw",
   "metadata": {},
   "source": [
    "# merge :\n",
    "4 ways : side by side ( axis = 1) merge or join\n",
    "    vstack ( concat or append) ( axis = 0)"
   ]
  },
  {
   "cell_type": "markdown",
   "metadata": {},
   "source": [
    "### VISUALIZATION"
   ]
  },
  {
   "cell_type": "raw",
   "metadata": {},
   "source": [
    "MATPLOTLIB"
   ]
  },
  {
   "cell_type": "code",
   "execution_count": null,
   "metadata": {},
   "outputs": [],
   "source": [
    "how do you decide the chart :\n",
    "bar chart :one of the most frequently used less variables (revenue ) questions :\n",
    "1. how many variables?\n",
    "2.what kind of variables(continuos or discrete)\n",
    "\n",
    "nominal:(Colour of hair (Blonde, red, Brown, Black, etc, Gender (Male, Female, Others)\n",
    "\n",
    "\n",
    " :(Letter grades in the exam (A, B, C, D, etc.)"
   ]
  },
  {
   "cell_type": "code",
   "execution_count": null,
   "metadata": {},
   "outputs": [],
   "source": [
    "why charts :\n",
    "It helps us to convey the right message to the audience through visuals.\n",
    "It helps us find outliers in our data.\n",
    "It helps the business leader to take an accurate decision.\n",
    "It helps us to understand how the data is distributed over time."
   ]
  },
  {
   "cell_type": "code",
   "execution_count": null,
   "metadata": {},
   "outputs": [],
   "source": [
    "Bar Chart:When to use:\n",
    "      \n",
    "        \n",
    "        \n",
    "Bar graphs are best used when we need to compare\n",
    "the quantity of categorical values within the same category.\n",
    "\n",
    "Not use:\n",
    "If you’re using multiple data points.\n",
    "If you have many categories, avoid overloading your graph. \n",
    "Your graph shouldn’t have more than 10 bars."
   ]
  },
  {
   "cell_type": "code",
   "execution_count": null,
   "metadata": {},
   "outputs": [],
   "source": [
    "Pie Chart\n",
    "\n",
    "\n",
    "When to use:\n",
    "A pie chart is suitable to show the proportional distribution of items\n",
    "within the same category.\n",
    "When you show relative proportions and percentages of a whole dataset.\n",
    "Best used with small datasets \n",
    "When comparing the effect of ONE factor on different categories.\n",
    "If you have up to 6 categories.\n",
    "When your data is nomial and not ordinal.\n",
    "\n",
    "\n",
    "When to avoid:\n",
    "\n",
    "If you have a big dataset.\n",
    "If you want to make a precise or absolute comparison between values."
   ]
  },
  {
   "cell_type": "code",
   "execution_count": null,
   "metadata": {},
   "outputs": [],
   "source": [
    "box chart:\n",
    "    Box plot gives statistical information about the distribution of\n",
    "    numeric data divided into different groups. \n",
    "    It is useful for detecting outliers within each group.\n",
    "    \n",
    "    Box plot does not show the distribution of data points within each group.\n",
    "\n"
   ]
  },
  {
   "cell_type": "code",
   "execution_count": null,
   "metadata": {},
   "outputs": [],
   "source": [
    "Histogram:\n",
    "    A histogram shows the distribution of \n",
    "    numeric data through a continuous interval by segmenting data into \n",
    "    different bins. \n",
    "    Distribution of non-discrete variables\t\n",
    "    Useful for inspecting skewness in the data."
   ]
  },
  {
   "cell_type": "code",
   "execution_count": null,
   "metadata": {},
   "outputs": [],
   "source": [
    "Scatter plot:\n",
    "    When to use:\n",
    "\n",
    "To show correlation and clustering in big datasets.\n",
    "If your dataset contains points that have a pair of values.\n",
    "If the order of points in the dataset is not essential.\n",
    "\n",
    "When to avoid:\n",
    "\n",
    "If you have a small dataset.\n",
    "If the values in your dataset are not correlated"
   ]
  },
  {
   "cell_type": "code",
   "execution_count": null,
   "metadata": {},
   "outputs": [],
   "source": [
    "Line Chart:\n",
    "    When to use:\n",
    "\n",
    "If you have a continuous dataset that changes over time.\n",
    "If your dataset is too big for a bar chart.\n",
    "If you want to display multiple series for the same timeline.\n",
    "If you want to visualize trends instead of exact values.\n",
    "\n",
    "\n",
    "When to avoid:\n",
    "\n",
    "Line charts work better with bigger datasets, so,\n",
    "if you have a small one, use a bar chart instead."
   ]
  },
  {
   "cell_type": "raw",
   "metadata": {},
   "source": [
    "If you have categorical data, use a bar chart if you have more than 5 categories or a pie chart otherwise.\n",
    "\n",
    "If you have nominal data, use bar charts \n",
    "or histograms if your data is discrete, or \n",
    " line/ area charts if it is continuous.\n",
    "\n",
    "If you want to show the relationship between values in your dataset, use a scatter plot,  or line charts.\n",
    "\n",
    "If you want to compare values, use a pie chart — for relative comparison — or bar charts — for precise comparison.\n",
    "\n",
    "\n",
    "If you want to show trends and patterns in your data, use a line chart, bar chart, or scatter plot."
   ]
  },
  {
   "cell_type": "code",
   "execution_count": null,
   "metadata": {},
   "outputs": [],
   "source": [
    "import matplotlib.pyplot as plt\n",
    "x = [2,3,4,5,6]\n",
    "y = [4,6,7,8,9]\n",
    "plt.plot(x,y)\n",
    "plt.show()"
   ]
  },
  {
   "cell_type": "code",
   "execution_count": null,
   "metadata": {},
   "outputs": [],
   "source": [
    "plt.scatter(x,y,s = 40,c = \"r\",marker = \"*\")\n",
    " # s = size of the marker\n",
    "plt.xlabel('x_axis',fontdict={'fontname': 'Comic Sans MS', 'fontsize': 20})\n",
    "plt.ylabel('y_axis',fontdict={'fontname': 'Comic Sans MS', 'fontsize': 20})\n",
    "plt.title('Our First Graph!', fontdict={'fontname': 'Comic Sans MS', 'fontsize': 20})\n",
    "plt.plot(x,y)\n",
    "\n",
    "\n",
    "plt.show()"
   ]
  },
  {
   "cell_type": "code",
   "execution_count": null,
   "metadata": {},
   "outputs": [],
   "source": [
    "plt.plot(x,y,':rs')"
   ]
  },
  {
   "cell_type": "code",
   "execution_count": null,
   "metadata": {},
   "outputs": [],
   "source": [
    "print(x)\n",
    "print(y)"
   ]
  },
  {
   "cell_type": "code",
   "execution_count": null,
   "metadata": {},
   "outputs": [],
   "source": [
    "\n",
    "#plt.plot(x,y)\n",
    "plt.xlabel(\"x_axis\")\n",
    "plt.ylabel(\"y_axis\")\n",
    "plt.axis([0, 10, 1, 15])  \n",
    "plt.plot(x,y,linestyle = \"-\",linewidth = '2',color = 'b', marker = 's',\n",
    "         markersize = '6',markerfacecolor = 'g')\n",
    "#grid() function to add grid lines to the plot.\n",
    "#plt.grid()\n",
    "plt.show()\n"
   ]
  },
  {
   "cell_type": "code",
   "execution_count": null,
   "metadata": {},
   "outputs": [],
   "source": [
    "\n",
    "y"
   ]
  },
  {
   "cell_type": "code",
   "execution_count": null,
   "metadata": {},
   "outputs": [],
   "source": [
    "#plt.plot(x,y,':rs',label ='y= 2x+ 2')\n",
    "plt.plot([2, 3, 4, 5, 6],[4, 6, 7, 8, 9],'gs-.',label = 'y = x+1')\n",
    "#plt.show()\n",
    "plt.legend()"
   ]
  },
  {
   "cell_type": "code",
   "execution_count": null,
   "metadata": {},
   "outputs": [],
   "source": [
    "import matplotlib.pyplot as plt\n",
    "import numpy as np\n",
    "\n",
    "#plot 1:\n",
    "x = np.array([0, 1, 2, 3])\n",
    "y = np.array([3, 8, 1, 10])\n",
    "\n",
    "plt.subplot(2, 1, 1)\n",
    "plt.plot(x,y)\n",
    "\n",
    "\n",
    "\n",
    "x = np.array([0, 1, 2, 3])\n",
    "y = np.array([10, 20, 30, 40])\n",
    "\n",
    "plt.subplot(2, 1, 2)\n",
    "plt.plot(x,y)\n",
    "\n",
    "plt.show()\n"
   ]
  },
  {
   "cell_type": "code",
   "execution_count": null,
   "metadata": {},
   "outputs": [],
   "source": [
    "# histograms:\n",
    "# try this using the datasets\n",
    "x = np.random.randn(1000)\n",
    "plt.hist(x,20,histtype = 'bar',color = 'green' )\n",
    "plt.show()"
   ]
  },
  {
   "cell_type": "code",
   "execution_count": 17,
   "metadata": {},
   "outputs": [
    {
     "data": {
      "application/javascript": [
       "\n",
       "        if (window._pyforest_update_imports_cell) { window._pyforest_update_imports_cell('import matplotlib.pyplot as plt'); }\n",
       "    "
      ],
      "text/plain": [
       "<IPython.core.display.Javascript object>"
      ]
     },
     "metadata": {},
     "output_type": "display_data"
    },
    {
     "data": {
      "text/plain": [
       "(array([15.,  3.,  3.,  3.,  3.,  3.,  3.,  3.,  3.,  3.,  3.,  6.]),\n",
       " array([ 0.        ,  1.08333333,  2.16666667,  3.25      ,  4.33333333,\n",
       "         5.41666667,  6.5       ,  7.58333333,  8.66666667,  9.75      ,\n",
       "        10.83333333, 11.91666667, 13.        ]),\n",
       " <a list of 12 Patch objects>)"
      ]
     },
     "execution_count": 17,
     "metadata": {},
     "output_type": "execute_result"
    },
    {
     "data": {
      "image/png": "[encoded data removed]",
      "text/plain": [
       "<Figure size 432x288 with 1 Axes>"
      ]
     },
     "metadata": {
      "needs_background": "light"
     },
     "output_type": "display_data"
    }
   ],
   "source": [
    "plt.hist(df_meal['category'], bins=12, align='left', color='yellow', edgecolor='black')\n"
   ]
  },
  {
   "cell_type": "code",
   "execution_count": 26,
   "metadata": {},
   "outputs": [
    {
     "data": {
      "image/png": "[encoded data removed]",
      "text/plain": [
       "<Figure size 1152x576 with 1 Axes>"
      ]
     },
     "metadata": {},
     "output_type": "display_data"
    }
   ],
   "source": [
    "# pie charts:\n",
    "\n",
    "from matplotlib import pyplot as plt\n",
    "import numpy as np\n",
    " \n",
    " # Creating dataset\n",
    "cars = ['AUDI', 'BMW', 'FORD','TESLA', 'JAGUAR', 'MERCEDES']\n",
    " \n",
    "data = [23, 17, 35, 29, 12, 41]\n",
    "expl = [0.2, 0, 0, 0,0.3,0]\n",
    "\n",
    "# Creating plot\n",
    "fig = plt.figure(figsize =(16, 8))\n",
    "\n",
    " \n",
    "#The startangle parameter is defined with an angle in degrees, default angle is 0:\n",
    "plt.pie(data, labels = cars,startangle = 90)\n",
    "\n",
    "#plt.pie(data, labels = cars,explode = expl)\n",
    "\n",
    "#plt.pie(y, labels = mylabels, explode = expl, shadow = True)\n",
    "\n",
    "# show plot\n",
    "#plt.legend()\n",
    "plt.legend(title = \"CARS\",loc = \"upper left\")\n",
    "\n",
    "plt.show()\n",
    "#By default the plotting of the first wedge starts from the x-axis and move counterclockwise:\n",
    "\n",
    "\n"
   ]
  },
  {
   "cell_type": "code",
   "execution_count": 27,
   "metadata": {},
   "outputs": [
    {
     "data": {
      "image/png": "[encoded data removed]",
      "text/plain": [
       "<Figure size 432x288 with 1 Axes>"
      ]
     },
     "metadata": {
      "needs_background": "light"
     },
     "output_type": "display_data"
    }
   ],
   "source": [
    "# scatter :\n",
    "\n",
    "import matplotlib.pyplot as plt\n",
    "import numpy as np\n",
    "\n",
    "#day one, the age and speed of 13 cars:\n",
    "x = np.array([5,7,8,7,2,17,2,9,4,11,12,9,6])\n",
    "y = np.array([99,86,87,88,111,86,103,87,94,78,77,85,86])\n",
    "plt.scatter(x, y, color = 'red')\n",
    "\n",
    "\n",
    "\n",
    "#day two, the age and speed of 15 cars:\n",
    "x = np.array([2,2,8,1,15,8,12,9,7,3,11,4,7,14,12])\n",
    "y = np.array([100,105,84,105,90,99,90,95,94,100,79,112,91,80,85])\n",
    "plt.scatter(x, y, color = '#88c999')\n",
    "\n",
    "\n",
    "\n",
    "plt.show()"
   ]
  },
  {
   "cell_type": "code",
   "execution_count": 33,
   "metadata": {},
   "outputs": [
    {
     "data": {
      "image/png": "[encoded data removed]",
      "text/plain": [
       "<Figure size 432x288 with 1 Axes>"
      ]
     },
     "metadata": {
      "needs_background": "light"
     },
     "output_type": "display_data"
    }
   ],
   "source": [
    "# bar graph :\n",
    "x = np.array([\"A\", \"B\", \"C\", \"D\",\"R\"])\n",
    "y = np.array([3, 8, 1, 10,12])\n",
    "\n",
    "#plt.barh(x,y)\n",
    "plt.bar(x,y,color = \"red\",width = 0.6)\n",
    "plt.show()"
   ]
  },
  {
   "cell_type": "code",
   "execution_count": 50,
   "metadata": {},
   "outputs": [
    {
     "data": {
      "text/html": [
       "<div>\n",
       "<style scoped>\n",
       "    .dataframe tbody tr th:only-of-type {\n",
       "        vertical-align: middle;\n",
       "    }\n",
       "\n",
       "    .dataframe tbody tr th {\n",
       "        vertical-align: top;\n",
       "    }\n",
       "\n",
       "    .dataframe thead th {\n",
       "        text-align: right;\n",
       "    }\n",
       "</style>\n",
       "<table border=\"1\" class=\"dataframe\">\n",
       "  <thead>\n",
       "    <tr style=\"text-align: right;\">\n",
       "      <th></th>\n",
       "      <th>A</th>\n",
       "      <th>B</th>\n",
       "      <th>C</th>\n",
       "      <th>D</th>\n",
       "      <th>E</th>\n",
       "      <th>F</th>\n",
       "    </tr>\n",
       "  </thead>\n",
       "  <tbody>\n",
       "    <tr>\n",
       "      <th>0</th>\n",
       "      <td>0.508099</td>\n",
       "      <td>0.712304</td>\n",
       "      <td>0.080967</td>\n",
       "      <td>0.559345</td>\n",
       "      <td>0.565250</td>\n",
       "      <td>0.000371</td>\n",
       "    </tr>\n",
       "    <tr>\n",
       "      <th>1</th>\n",
       "      <td>0.727069</td>\n",
       "      <td>0.305782</td>\n",
       "      <td>0.436911</td>\n",
       "      <td>0.615877</td>\n",
       "      <td>0.093632</td>\n",
       "      <td>0.836251</td>\n",
       "    </tr>\n",
       "    <tr>\n",
       "      <th>2</th>\n",
       "      <td>0.792725</td>\n",
       "      <td>0.265817</td>\n",
       "      <td>0.110168</td>\n",
       "      <td>0.772703</td>\n",
       "      <td>0.091381</td>\n",
       "      <td>0.251101</td>\n",
       "    </tr>\n",
       "    <tr>\n",
       "      <th>3</th>\n",
       "      <td>0.669189</td>\n",
       "      <td>0.369506</td>\n",
       "      <td>0.292211</td>\n",
       "      <td>0.815302</td>\n",
       "      <td>0.604275</td>\n",
       "      <td>0.056564</td>\n",
       "    </tr>\n",
       "    <tr>\n",
       "      <th>4</th>\n",
       "      <td>0.468189</td>\n",
       "      <td>0.120736</td>\n",
       "      <td>0.721755</td>\n",
       "      <td>0.559761</td>\n",
       "      <td>0.862477</td>\n",
       "      <td>0.936606</td>\n",
       "    </tr>\n",
       "    <tr>\n",
       "      <th>5</th>\n",
       "      <td>0.986165</td>\n",
       "      <td>0.837274</td>\n",
       "      <td>0.710961</td>\n",
       "      <td>0.501584</td>\n",
       "      <td>0.468150</td>\n",
       "      <td>0.355474</td>\n",
       "    </tr>\n",
       "    <tr>\n",
       "      <th>6</th>\n",
       "      <td>0.759404</td>\n",
       "      <td>0.970415</td>\n",
       "      <td>0.226180</td>\n",
       "      <td>0.067335</td>\n",
       "      <td>0.281652</td>\n",
       "      <td>0.714040</td>\n",
       "    </tr>\n",
       "    <tr>\n",
       "      <th>7</th>\n",
       "      <td>0.398384</td>\n",
       "      <td>0.019795</td>\n",
       "      <td>0.975755</td>\n",
       "      <td>0.754938</td>\n",
       "      <td>0.462767</td>\n",
       "      <td>0.015018</td>\n",
       "    </tr>\n",
       "    <tr>\n",
       "      <th>8</th>\n",
       "      <td>0.617870</td>\n",
       "      <td>0.062258</td>\n",
       "      <td>0.537727</td>\n",
       "      <td>0.264961</td>\n",
       "      <td>0.796771</td>\n",
       "      <td>0.088071</td>\n",
       "    </tr>\n",
       "    <tr>\n",
       "      <th>9</th>\n",
       "      <td>0.889781</td>\n",
       "      <td>0.901532</td>\n",
       "      <td>0.830087</td>\n",
       "      <td>0.754269</td>\n",
       "      <td>0.163438</td>\n",
       "      <td>0.545808</td>\n",
       "    </tr>\n",
       "  </tbody>\n",
       "</table>\n",
       "</div>"
      ],
      "text/plain": [
       "          A         B         C         D         E         F\n",
       "0  0.508099  0.712304  0.080967  0.559345  0.565250  0.000371\n",
       "1  0.727069  0.305782  0.436911  0.615877  0.093632  0.836251\n",
       "2  0.792725  0.265817  0.110168  0.772703  0.091381  0.251101\n",
       "3  0.669189  0.369506  0.292211  0.815302  0.604275  0.056564\n",
       "4  0.468189  0.120736  0.721755  0.559761  0.862477  0.936606\n",
       "5  0.986165  0.837274  0.710961  0.501584  0.468150  0.355474\n",
       "6  0.759404  0.970415  0.226180  0.067335  0.281652  0.714040\n",
       "7  0.398384  0.019795  0.975755  0.754938  0.462767  0.015018\n",
       "8  0.617870  0.062258  0.537727  0.264961  0.796771  0.088071\n",
       "9  0.889781  0.901532  0.830087  0.754269  0.163438  0.545808"
      ]
     },
     "execution_count": 50,
     "metadata": {},
     "output_type": "execute_result"
    }
   ],
   "source": [
    "# box plots :\n",
    "import pandas as pd\n",
    "import numpy as np\n",
    "import matplotlib.pyplot as plt\n",
    "df = pd.DataFrame(np.random.rand(10,6), columns=['A', 'B', 'C', 'D','E','F'])\n",
    "df.head(20)\n",
    "#df.plot.box(grid='True')\n",
    "\n",
    "\n",
    "# value1 = [1,2,3,6,7,9]\n",
    "# value2 = [3,4,5,6,8,9]\n",
    "# bx = [value1,value2]\n",
    "# plt.boxplot(bx)\n",
    "# plt.show()"
   ]
  },
  {
   "cell_type": "raw",
   "metadata": {},
   "source": [
    " It divides the data set into three quartiles. \n",
    "This graph represents the minimum, maximum, median, first quartile and third quartile in the data set.\n",
    "It is also useful in comparing the distribution of data across data sets by drawing boxplots for each of them."
   ]
  }
 ],
 "metadata": {
  "kernelspec": {
   "display_name": "Python 3 (ipykernel)",
   "language": "python",
   "name": "python3"
  },
  "language_info": {
   "codemirror_mode": {
    "name": "ipython",
    "version": 3
   },
   "file_extension": ".py",
   "mimetype": "text/x-python",
   "name": "python",
   "nbconvert_exporter": "python",
   "pygments_lexer": "ipython3",
   "version": "3.9.12"
  }
 },
 "nbformat": 4,
 "nbformat_minor": 4
}
